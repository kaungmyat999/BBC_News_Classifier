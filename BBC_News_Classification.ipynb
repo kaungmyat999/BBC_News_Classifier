{
  "nbformat": 4,
  "nbformat_minor": 0,
  "metadata": {
    "colab": {
      "provenance": []
    },
    "kernelspec": {
      "name": "python3",
      "display_name": "Python 3"
    },
    "language_info": {
      "name": "python"
    }
  },
  "cells": [
    {
      "cell_type": "code",
      "execution_count": 2,
      "metadata": {
        "colab": {
          "base_uri": "https://localhost:8080/"
        },
        "id": "tjp4a1EnkT3S",
        "outputId": "8bf720a7-cbeb-43bf-d8de-8a1ad0a310fc"
      },
      "outputs": [
        {
          "output_type": "stream",
          "name": "stdout",
          "text": [
            "Requirement already satisfied: kaggle in /usr/local/lib/python3.10/dist-packages (1.5.16)\n",
            "Requirement already satisfied: six>=1.10 in /usr/local/lib/python3.10/dist-packages (from kaggle) (1.16.0)\n",
            "Requirement already satisfied: certifi in /usr/local/lib/python3.10/dist-packages (from kaggle) (2024.2.2)\n",
            "Requirement already satisfied: python-dateutil in /usr/local/lib/python3.10/dist-packages (from kaggle) (2.8.2)\n",
            "Requirement already satisfied: requests in /usr/local/lib/python3.10/dist-packages (from kaggle) (2.31.0)\n",
            "Requirement already satisfied: tqdm in /usr/local/lib/python3.10/dist-packages (from kaggle) (4.66.2)\n",
            "Requirement already satisfied: python-slugify in /usr/local/lib/python3.10/dist-packages (from kaggle) (8.0.4)\n",
            "Requirement already satisfied: urllib3 in /usr/local/lib/python3.10/dist-packages (from kaggle) (2.0.7)\n",
            "Requirement already satisfied: bleach in /usr/local/lib/python3.10/dist-packages (from kaggle) (6.1.0)\n",
            "Requirement already satisfied: webencodings in /usr/local/lib/python3.10/dist-packages (from bleach->kaggle) (0.5.1)\n",
            "Requirement already satisfied: text-unidecode>=1.3 in /usr/local/lib/python3.10/dist-packages (from python-slugify->kaggle) (1.3)\n",
            "Requirement already satisfied: charset-normalizer<4,>=2 in /usr/local/lib/python3.10/dist-packages (from requests->kaggle) (3.3.2)\n",
            "Requirement already satisfied: idna<4,>=2.5 in /usr/local/lib/python3.10/dist-packages (from requests->kaggle) (3.6)\n"
          ]
        }
      ],
      "source": [
        "!pip install kaggle"
      ]
    },
    {
      "cell_type": "code",
      "source": [
        "!chmod 600 /root/.kaggle/kaggle.json\n",
        "\n"
      ],
      "metadata": {
        "colab": {
          "base_uri": "https://localhost:8080/"
        },
        "id": "LZx1WZ56ku-N",
        "outputId": "f56a091c-4435-4c1d-a957-5f01ab4fe4fb"
      },
      "execution_count": 18,
      "outputs": [
        {
          "output_type": "stream",
          "name": "stdout",
          "text": [
            "chmod: cannot access '/root/.kaggle/kaggle.json': No such file or directory\n"
          ]
        }
      ]
    },
    {
      "cell_type": "code",
      "source": [
        "!cp kaggle.json ~/.kaggle/"
      ],
      "metadata": {
        "id": "Qy4q0pEJk4UB"
      },
      "execution_count": 19,
      "outputs": []
    },
    {
      "cell_type": "code",
      "source": [
        "!kaggle competitions download -c learn-ai-bbc"
      ],
      "metadata": {
        "colab": {
          "base_uri": "https://localhost:8080/"
        },
        "id": "X4S8YBRjk0j5",
        "outputId": "70212d65-0765-40e5-abc4-16d9e7f27ad5"
      },
      "execution_count": 20,
      "outputs": [
        {
          "output_type": "stream",
          "name": "stdout",
          "text": [
            "Warning: Your Kaggle API key is readable by other users on this system! To fix this, you can run 'chmod 600 /root/.kaggle/kaggle.json'\n",
            "Downloading learn-ai-bbc.zip to /content\n",
            "  0% 0.00/1.85M [00:00<?, ?B/s]\n",
            "100% 1.85M/1.85M [00:00<00:00, 59.2MB/s]\n"
          ]
        }
      ]
    },
    {
      "cell_type": "code",
      "source": [
        "!mkdir data"
      ],
      "metadata": {
        "colab": {
          "base_uri": "https://localhost:8080/"
        },
        "id": "9cdwSQErlD_W",
        "outputId": "3c314336-0cad-46ed-d52f-8589e627ea6d"
      },
      "execution_count": 21,
      "outputs": [
        {
          "output_type": "stream",
          "name": "stdout",
          "text": [
            "mkdir: cannot create directory ‘data’: File exists\n"
          ]
        }
      ]
    },
    {
      "cell_type": "code",
      "source": [
        "!unzip ./learn-ai-bbc.zip -d data/"
      ],
      "metadata": {
        "colab": {
          "base_uri": "https://localhost:8080/"
        },
        "id": "pOTGGLcTk7Uu",
        "outputId": "96646467-b6f0-4c6d-d95b-999309e4079f"
      },
      "execution_count": 22,
      "outputs": [
        {
          "output_type": "stream",
          "name": "stdout",
          "text": [
            "Archive:  ./learn-ai-bbc.zip\n",
            "  inflating: data/BBC News Sample Solution.csv  \n",
            "  inflating: data/BBC News Test.csv  \n",
            "  inflating: data/BBC News Train.csv  \n"
          ]
        }
      ]
    },
    {
      "cell_type": "code",
      "source": [
        "import os\n",
        "import pandas as pd\n",
        "import numpy as np\n",
        "import seaborn as sns\n",
        "import matplotlib.pyplot as plt"
      ],
      "metadata": {
        "id": "AsaYJw0kmIiZ"
      },
      "execution_count": 24,
      "outputs": []
    },
    {
      "cell_type": "markdown",
      "source": [
        "## **EDA**"
      ],
      "metadata": {
        "id": "6tbculYBoZs2"
      }
    },
    {
      "cell_type": "markdown",
      "source": [
        "### Importing and Reading the Data"
      ],
      "metadata": {
        "id": "EMF3vxZkm1Jj"
      }
    },
    {
      "cell_type": "code",
      "source": [
        "prePath = './data'\n",
        "sample_solutionPath = os.path.join(prePath,'BBC News Sample Solution.csv')\n",
        "trainDataPath = os.path.join(prePath,'BBC News Train.csv')\n",
        "testDataPath = os.path.join(prePath,'BBC News Test.csv')"
      ],
      "metadata": {
        "id": "dAJzZxYmlQtl"
      },
      "execution_count": 68,
      "outputs": []
    },
    {
      "cell_type": "markdown",
      "source": [
        "Sample Solution Table Describe the format that have to follow to submit."
      ],
      "metadata": {
        "id": "K6LiceeBnNDb"
      }
    },
    {
      "cell_type": "code",
      "source": [
        "sampleSolutionData = pd.read_csv(sample_solutionPath)\n",
        "sampleSolutionData.head()"
      ],
      "metadata": {
        "colab": {
          "base_uri": "https://localhost:8080/",
          "height": 206
        },
        "id": "-fse4UP9l7ct",
        "outputId": "d2234e3e-6cb0-46c9-eda8-28d665c411a7"
      },
      "execution_count": 69,
      "outputs": [
        {
          "output_type": "execute_result",
          "data": {
            "text/plain": [
              "   ArticleId       Category\n",
              "0       1018          sport\n",
              "1       1319           tech\n",
              "2       1138       business\n",
              "3        459  entertainment\n",
              "4       1020       politics"
            ],
            "text/html": [
              "\n",
              "  <div id=\"df-ce050098-5b43-4134-9daa-8b08d4ad5d26\" class=\"colab-df-container\">\n",
              "    <div>\n",
              "<style scoped>\n",
              "    .dataframe tbody tr th:only-of-type {\n",
              "        vertical-align: middle;\n",
              "    }\n",
              "\n",
              "    .dataframe tbody tr th {\n",
              "        vertical-align: top;\n",
              "    }\n",
              "\n",
              "    .dataframe thead th {\n",
              "        text-align: right;\n",
              "    }\n",
              "</style>\n",
              "<table border=\"1\" class=\"dataframe\">\n",
              "  <thead>\n",
              "    <tr style=\"text-align: right;\">\n",
              "      <th></th>\n",
              "      <th>ArticleId</th>\n",
              "      <th>Category</th>\n",
              "    </tr>\n",
              "  </thead>\n",
              "  <tbody>\n",
              "    <tr>\n",
              "      <th>0</th>\n",
              "      <td>1018</td>\n",
              "      <td>sport</td>\n",
              "    </tr>\n",
              "    <tr>\n",
              "      <th>1</th>\n",
              "      <td>1319</td>\n",
              "      <td>tech</td>\n",
              "    </tr>\n",
              "    <tr>\n",
              "      <th>2</th>\n",
              "      <td>1138</td>\n",
              "      <td>business</td>\n",
              "    </tr>\n",
              "    <tr>\n",
              "      <th>3</th>\n",
              "      <td>459</td>\n",
              "      <td>entertainment</td>\n",
              "    </tr>\n",
              "    <tr>\n",
              "      <th>4</th>\n",
              "      <td>1020</td>\n",
              "      <td>politics</td>\n",
              "    </tr>\n",
              "  </tbody>\n",
              "</table>\n",
              "</div>\n",
              "    <div class=\"colab-df-buttons\">\n",
              "\n",
              "  <div class=\"colab-df-container\">\n",
              "    <button class=\"colab-df-convert\" onclick=\"convertToInteractive('df-ce050098-5b43-4134-9daa-8b08d4ad5d26')\"\n",
              "            title=\"Convert this dataframe to an interactive table.\"\n",
              "            style=\"display:none;\">\n",
              "\n",
              "  <svg xmlns=\"http://www.w3.org/2000/svg\" height=\"24px\" viewBox=\"0 -960 960 960\">\n",
              "    <path d=\"M120-120v-720h720v720H120Zm60-500h600v-160H180v160Zm220 220h160v-160H400v160Zm0 220h160v-160H400v160ZM180-400h160v-160H180v160Zm440 0h160v-160H620v160ZM180-180h160v-160H180v160Zm440 0h160v-160H620v160Z\"/>\n",
              "  </svg>\n",
              "    </button>\n",
              "\n",
              "  <style>\n",
              "    .colab-df-container {\n",
              "      display:flex;\n",
              "      gap: 12px;\n",
              "    }\n",
              "\n",
              "    .colab-df-convert {\n",
              "      background-color: #E8F0FE;\n",
              "      border: none;\n",
              "      border-radius: 50%;\n",
              "      cursor: pointer;\n",
              "      display: none;\n",
              "      fill: #1967D2;\n",
              "      height: 32px;\n",
              "      padding: 0 0 0 0;\n",
              "      width: 32px;\n",
              "    }\n",
              "\n",
              "    .colab-df-convert:hover {\n",
              "      background-color: #E2EBFA;\n",
              "      box-shadow: 0px 1px 2px rgba(60, 64, 67, 0.3), 0px 1px 3px 1px rgba(60, 64, 67, 0.15);\n",
              "      fill: #174EA6;\n",
              "    }\n",
              "\n",
              "    .colab-df-buttons div {\n",
              "      margin-bottom: 4px;\n",
              "    }\n",
              "\n",
              "    [theme=dark] .colab-df-convert {\n",
              "      background-color: #3B4455;\n",
              "      fill: #D2E3FC;\n",
              "    }\n",
              "\n",
              "    [theme=dark] .colab-df-convert:hover {\n",
              "      background-color: #434B5C;\n",
              "      box-shadow: 0px 1px 3px 1px rgba(0, 0, 0, 0.15);\n",
              "      filter: drop-shadow(0px 1px 2px rgba(0, 0, 0, 0.3));\n",
              "      fill: #FFFFFF;\n",
              "    }\n",
              "  </style>\n",
              "\n",
              "    <script>\n",
              "      const buttonEl =\n",
              "        document.querySelector('#df-ce050098-5b43-4134-9daa-8b08d4ad5d26 button.colab-df-convert');\n",
              "      buttonEl.style.display =\n",
              "        google.colab.kernel.accessAllowed ? 'block' : 'none';\n",
              "\n",
              "      async function convertToInteractive(key) {\n",
              "        const element = document.querySelector('#df-ce050098-5b43-4134-9daa-8b08d4ad5d26');\n",
              "        const dataTable =\n",
              "          await google.colab.kernel.invokeFunction('convertToInteractive',\n",
              "                                                    [key], {});\n",
              "        if (!dataTable) return;\n",
              "\n",
              "        const docLinkHtml = 'Like what you see? Visit the ' +\n",
              "          '<a target=\"_blank\" href=https://colab.research.google.com/notebooks/data_table.ipynb>data table notebook</a>'\n",
              "          + ' to learn more about interactive tables.';\n",
              "        element.innerHTML = '';\n",
              "        dataTable['output_type'] = 'display_data';\n",
              "        await google.colab.output.renderOutput(dataTable, element);\n",
              "        const docLink = document.createElement('div');\n",
              "        docLink.innerHTML = docLinkHtml;\n",
              "        element.appendChild(docLink);\n",
              "      }\n",
              "    </script>\n",
              "  </div>\n",
              "\n",
              "\n",
              "<div id=\"df-429690be-6834-4a45-83f0-f2ef3b1b93ae\">\n",
              "  <button class=\"colab-df-quickchart\" onclick=\"quickchart('df-429690be-6834-4a45-83f0-f2ef3b1b93ae')\"\n",
              "            title=\"Suggest charts\"\n",
              "            style=\"display:none;\">\n",
              "\n",
              "<svg xmlns=\"http://www.w3.org/2000/svg\" height=\"24px\"viewBox=\"0 0 24 24\"\n",
              "     width=\"24px\">\n",
              "    <g>\n",
              "        <path d=\"M19 3H5c-1.1 0-2 .9-2 2v14c0 1.1.9 2 2 2h14c1.1 0 2-.9 2-2V5c0-1.1-.9-2-2-2zM9 17H7v-7h2v7zm4 0h-2V7h2v10zm4 0h-2v-4h2v4z\"/>\n",
              "    </g>\n",
              "</svg>\n",
              "  </button>\n",
              "\n",
              "<style>\n",
              "  .colab-df-quickchart {\n",
              "      --bg-color: #E8F0FE;\n",
              "      --fill-color: #1967D2;\n",
              "      --hover-bg-color: #E2EBFA;\n",
              "      --hover-fill-color: #174EA6;\n",
              "      --disabled-fill-color: #AAA;\n",
              "      --disabled-bg-color: #DDD;\n",
              "  }\n",
              "\n",
              "  [theme=dark] .colab-df-quickchart {\n",
              "      --bg-color: #3B4455;\n",
              "      --fill-color: #D2E3FC;\n",
              "      --hover-bg-color: #434B5C;\n",
              "      --hover-fill-color: #FFFFFF;\n",
              "      --disabled-bg-color: #3B4455;\n",
              "      --disabled-fill-color: #666;\n",
              "  }\n",
              "\n",
              "  .colab-df-quickchart {\n",
              "    background-color: var(--bg-color);\n",
              "    border: none;\n",
              "    border-radius: 50%;\n",
              "    cursor: pointer;\n",
              "    display: none;\n",
              "    fill: var(--fill-color);\n",
              "    height: 32px;\n",
              "    padding: 0;\n",
              "    width: 32px;\n",
              "  }\n",
              "\n",
              "  .colab-df-quickchart:hover {\n",
              "    background-color: var(--hover-bg-color);\n",
              "    box-shadow: 0 1px 2px rgba(60, 64, 67, 0.3), 0 1px 3px 1px rgba(60, 64, 67, 0.15);\n",
              "    fill: var(--button-hover-fill-color);\n",
              "  }\n",
              "\n",
              "  .colab-df-quickchart-complete:disabled,\n",
              "  .colab-df-quickchart-complete:disabled:hover {\n",
              "    background-color: var(--disabled-bg-color);\n",
              "    fill: var(--disabled-fill-color);\n",
              "    box-shadow: none;\n",
              "  }\n",
              "\n",
              "  .colab-df-spinner {\n",
              "    border: 2px solid var(--fill-color);\n",
              "    border-color: transparent;\n",
              "    border-bottom-color: var(--fill-color);\n",
              "    animation:\n",
              "      spin 1s steps(1) infinite;\n",
              "  }\n",
              "\n",
              "  @keyframes spin {\n",
              "    0% {\n",
              "      border-color: transparent;\n",
              "      border-bottom-color: var(--fill-color);\n",
              "      border-left-color: var(--fill-color);\n",
              "    }\n",
              "    20% {\n",
              "      border-color: transparent;\n",
              "      border-left-color: var(--fill-color);\n",
              "      border-top-color: var(--fill-color);\n",
              "    }\n",
              "    30% {\n",
              "      border-color: transparent;\n",
              "      border-left-color: var(--fill-color);\n",
              "      border-top-color: var(--fill-color);\n",
              "      border-right-color: var(--fill-color);\n",
              "    }\n",
              "    40% {\n",
              "      border-color: transparent;\n",
              "      border-right-color: var(--fill-color);\n",
              "      border-top-color: var(--fill-color);\n",
              "    }\n",
              "    60% {\n",
              "      border-color: transparent;\n",
              "      border-right-color: var(--fill-color);\n",
              "    }\n",
              "    80% {\n",
              "      border-color: transparent;\n",
              "      border-right-color: var(--fill-color);\n",
              "      border-bottom-color: var(--fill-color);\n",
              "    }\n",
              "    90% {\n",
              "      border-color: transparent;\n",
              "      border-bottom-color: var(--fill-color);\n",
              "    }\n",
              "  }\n",
              "</style>\n",
              "\n",
              "  <script>\n",
              "    async function quickchart(key) {\n",
              "      const quickchartButtonEl =\n",
              "        document.querySelector('#' + key + ' button');\n",
              "      quickchartButtonEl.disabled = true;  // To prevent multiple clicks.\n",
              "      quickchartButtonEl.classList.add('colab-df-spinner');\n",
              "      try {\n",
              "        const charts = await google.colab.kernel.invokeFunction(\n",
              "            'suggestCharts', [key], {});\n",
              "      } catch (error) {\n",
              "        console.error('Error during call to suggestCharts:', error);\n",
              "      }\n",
              "      quickchartButtonEl.classList.remove('colab-df-spinner');\n",
              "      quickchartButtonEl.classList.add('colab-df-quickchart-complete');\n",
              "    }\n",
              "    (() => {\n",
              "      let quickchartButtonEl =\n",
              "        document.querySelector('#df-429690be-6834-4a45-83f0-f2ef3b1b93ae button');\n",
              "      quickchartButtonEl.style.display =\n",
              "        google.colab.kernel.accessAllowed ? 'block' : 'none';\n",
              "    })();\n",
              "  </script>\n",
              "</div>\n",
              "\n",
              "    </div>\n",
              "  </div>\n"
            ],
            "application/vnd.google.colaboratory.intrinsic+json": {
              "type": "dataframe",
              "variable_name": "sampleSolutionData",
              "summary": "{\n  \"name\": \"sampleSolutionData\",\n  \"rows\": 735,\n  \"fields\": [\n    {\n      \"column\": \"ArticleId\",\n      \"properties\": {\n        \"dtype\": \"number\",\n        \"std\": 643,\n        \"min\": 1,\n        \"max\": 2225,\n        \"num_unique_values\": 735,\n        \"samples\": [\n          1810,\n          1556,\n          1288\n        ],\n        \"semantic_type\": \"\",\n        \"description\": \"\"\n      }\n    },\n    {\n      \"column\": \"Category\",\n      \"properties\": {\n        \"dtype\": \"category\",\n        \"num_unique_values\": 5,\n        \"samples\": [\n          \"tech\",\n          \"politics\",\n          \"business\"\n        ],\n        \"semantic_type\": \"\",\n        \"description\": \"\"\n      }\n    }\n  ]\n}"
            }
          },
          "metadata": {},
          "execution_count": 69
        }
      ]
    },
    {
      "cell_type": "markdown",
      "source": [
        "### Train DataSet"
      ],
      "metadata": {
        "id": "Y7wd9oVloWJ9"
      }
    },
    {
      "cell_type": "markdown",
      "source": [
        "Train Dataset contains the ArticleID and Text and Category Columns.\n",
        "\n",
        "Category is the dependent variable that our model need to predict using the independent variables such as AricleID and Text from the Test DataSet."
      ],
      "metadata": {
        "id": "AtY7Sieun3K9"
      }
    },
    {
      "cell_type": "code",
      "source": [
        "trainData = pd.read_csv(trainDataPath)\n",
        "trainData.head()"
      ],
      "metadata": {
        "colab": {
          "base_uri": "https://localhost:8080/",
          "height": 206
        },
        "id": "CQutoKgZmghJ",
        "outputId": "cd7d570a-540a-468b-f98a-5371c14cbd41"
      },
      "execution_count": 70,
      "outputs": [
        {
          "output_type": "execute_result",
          "data": {
            "text/plain": [
              "   ArticleId                                               Text  Category\n",
              "0       1833  worldcom ex-boss launches defence lawyers defe...  business\n",
              "1        154  german business confidence slides german busin...  business\n",
              "2       1101  bbc poll indicates economic gloom citizens in ...  business\n",
              "3       1976  lifestyle  governs mobile choice  faster  bett...      tech\n",
              "4        917  enron bosses in $168m payout eighteen former e...  business"
            ],
            "text/html": [
              "\n",
              "  <div id=\"df-c4c27cee-821c-422e-ac04-10a73d8c213e\" class=\"colab-df-container\">\n",
              "    <div>\n",
              "<style scoped>\n",
              "    .dataframe tbody tr th:only-of-type {\n",
              "        vertical-align: middle;\n",
              "    }\n",
              "\n",
              "    .dataframe tbody tr th {\n",
              "        vertical-align: top;\n",
              "    }\n",
              "\n",
              "    .dataframe thead th {\n",
              "        text-align: right;\n",
              "    }\n",
              "</style>\n",
              "<table border=\"1\" class=\"dataframe\">\n",
              "  <thead>\n",
              "    <tr style=\"text-align: right;\">\n",
              "      <th></th>\n",
              "      <th>ArticleId</th>\n",
              "      <th>Text</th>\n",
              "      <th>Category</th>\n",
              "    </tr>\n",
              "  </thead>\n",
              "  <tbody>\n",
              "    <tr>\n",
              "      <th>0</th>\n",
              "      <td>1833</td>\n",
              "      <td>worldcom ex-boss launches defence lawyers defe...</td>\n",
              "      <td>business</td>\n",
              "    </tr>\n",
              "    <tr>\n",
              "      <th>1</th>\n",
              "      <td>154</td>\n",
              "      <td>german business confidence slides german busin...</td>\n",
              "      <td>business</td>\n",
              "    </tr>\n",
              "    <tr>\n",
              "      <th>2</th>\n",
              "      <td>1101</td>\n",
              "      <td>bbc poll indicates economic gloom citizens in ...</td>\n",
              "      <td>business</td>\n",
              "    </tr>\n",
              "    <tr>\n",
              "      <th>3</th>\n",
              "      <td>1976</td>\n",
              "      <td>lifestyle  governs mobile choice  faster  bett...</td>\n",
              "      <td>tech</td>\n",
              "    </tr>\n",
              "    <tr>\n",
              "      <th>4</th>\n",
              "      <td>917</td>\n",
              "      <td>enron bosses in $168m payout eighteen former e...</td>\n",
              "      <td>business</td>\n",
              "    </tr>\n",
              "  </tbody>\n",
              "</table>\n",
              "</div>\n",
              "    <div class=\"colab-df-buttons\">\n",
              "\n",
              "  <div class=\"colab-df-container\">\n",
              "    <button class=\"colab-df-convert\" onclick=\"convertToInteractive('df-c4c27cee-821c-422e-ac04-10a73d8c213e')\"\n",
              "            title=\"Convert this dataframe to an interactive table.\"\n",
              "            style=\"display:none;\">\n",
              "\n",
              "  <svg xmlns=\"http://www.w3.org/2000/svg\" height=\"24px\" viewBox=\"0 -960 960 960\">\n",
              "    <path d=\"M120-120v-720h720v720H120Zm60-500h600v-160H180v160Zm220 220h160v-160H400v160Zm0 220h160v-160H400v160ZM180-400h160v-160H180v160Zm440 0h160v-160H620v160ZM180-180h160v-160H180v160Zm440 0h160v-160H620v160Z\"/>\n",
              "  </svg>\n",
              "    </button>\n",
              "\n",
              "  <style>\n",
              "    .colab-df-container {\n",
              "      display:flex;\n",
              "      gap: 12px;\n",
              "    }\n",
              "\n",
              "    .colab-df-convert {\n",
              "      background-color: #E8F0FE;\n",
              "      border: none;\n",
              "      border-radius: 50%;\n",
              "      cursor: pointer;\n",
              "      display: none;\n",
              "      fill: #1967D2;\n",
              "      height: 32px;\n",
              "      padding: 0 0 0 0;\n",
              "      width: 32px;\n",
              "    }\n",
              "\n",
              "    .colab-df-convert:hover {\n",
              "      background-color: #E2EBFA;\n",
              "      box-shadow: 0px 1px 2px rgba(60, 64, 67, 0.3), 0px 1px 3px 1px rgba(60, 64, 67, 0.15);\n",
              "      fill: #174EA6;\n",
              "    }\n",
              "\n",
              "    .colab-df-buttons div {\n",
              "      margin-bottom: 4px;\n",
              "    }\n",
              "\n",
              "    [theme=dark] .colab-df-convert {\n",
              "      background-color: #3B4455;\n",
              "      fill: #D2E3FC;\n",
              "    }\n",
              "\n",
              "    [theme=dark] .colab-df-convert:hover {\n",
              "      background-color: #434B5C;\n",
              "      box-shadow: 0px 1px 3px 1px rgba(0, 0, 0, 0.15);\n",
              "      filter: drop-shadow(0px 1px 2px rgba(0, 0, 0, 0.3));\n",
              "      fill: #FFFFFF;\n",
              "    }\n",
              "  </style>\n",
              "\n",
              "    <script>\n",
              "      const buttonEl =\n",
              "        document.querySelector('#df-c4c27cee-821c-422e-ac04-10a73d8c213e button.colab-df-convert');\n",
              "      buttonEl.style.display =\n",
              "        google.colab.kernel.accessAllowed ? 'block' : 'none';\n",
              "\n",
              "      async function convertToInteractive(key) {\n",
              "        const element = document.querySelector('#df-c4c27cee-821c-422e-ac04-10a73d8c213e');\n",
              "        const dataTable =\n",
              "          await google.colab.kernel.invokeFunction('convertToInteractive',\n",
              "                                                    [key], {});\n",
              "        if (!dataTable) return;\n",
              "\n",
              "        const docLinkHtml = 'Like what you see? Visit the ' +\n",
              "          '<a target=\"_blank\" href=https://colab.research.google.com/notebooks/data_table.ipynb>data table notebook</a>'\n",
              "          + ' to learn more about interactive tables.';\n",
              "        element.innerHTML = '';\n",
              "        dataTable['output_type'] = 'display_data';\n",
              "        await google.colab.output.renderOutput(dataTable, element);\n",
              "        const docLink = document.createElement('div');\n",
              "        docLink.innerHTML = docLinkHtml;\n",
              "        element.appendChild(docLink);\n",
              "      }\n",
              "    </script>\n",
              "  </div>\n",
              "\n",
              "\n",
              "<div id=\"df-c36e4f67-ce4e-4778-93af-a5cb8f95032d\">\n",
              "  <button class=\"colab-df-quickchart\" onclick=\"quickchart('df-c36e4f67-ce4e-4778-93af-a5cb8f95032d')\"\n",
              "            title=\"Suggest charts\"\n",
              "            style=\"display:none;\">\n",
              "\n",
              "<svg xmlns=\"http://www.w3.org/2000/svg\" height=\"24px\"viewBox=\"0 0 24 24\"\n",
              "     width=\"24px\">\n",
              "    <g>\n",
              "        <path d=\"M19 3H5c-1.1 0-2 .9-2 2v14c0 1.1.9 2 2 2h14c1.1 0 2-.9 2-2V5c0-1.1-.9-2-2-2zM9 17H7v-7h2v7zm4 0h-2V7h2v10zm4 0h-2v-4h2v4z\"/>\n",
              "    </g>\n",
              "</svg>\n",
              "  </button>\n",
              "\n",
              "<style>\n",
              "  .colab-df-quickchart {\n",
              "      --bg-color: #E8F0FE;\n",
              "      --fill-color: #1967D2;\n",
              "      --hover-bg-color: #E2EBFA;\n",
              "      --hover-fill-color: #174EA6;\n",
              "      --disabled-fill-color: #AAA;\n",
              "      --disabled-bg-color: #DDD;\n",
              "  }\n",
              "\n",
              "  [theme=dark] .colab-df-quickchart {\n",
              "      --bg-color: #3B4455;\n",
              "      --fill-color: #D2E3FC;\n",
              "      --hover-bg-color: #434B5C;\n",
              "      --hover-fill-color: #FFFFFF;\n",
              "      --disabled-bg-color: #3B4455;\n",
              "      --disabled-fill-color: #666;\n",
              "  }\n",
              "\n",
              "  .colab-df-quickchart {\n",
              "    background-color: var(--bg-color);\n",
              "    border: none;\n",
              "    border-radius: 50%;\n",
              "    cursor: pointer;\n",
              "    display: none;\n",
              "    fill: var(--fill-color);\n",
              "    height: 32px;\n",
              "    padding: 0;\n",
              "    width: 32px;\n",
              "  }\n",
              "\n",
              "  .colab-df-quickchart:hover {\n",
              "    background-color: var(--hover-bg-color);\n",
              "    box-shadow: 0 1px 2px rgba(60, 64, 67, 0.3), 0 1px 3px 1px rgba(60, 64, 67, 0.15);\n",
              "    fill: var(--button-hover-fill-color);\n",
              "  }\n",
              "\n",
              "  .colab-df-quickchart-complete:disabled,\n",
              "  .colab-df-quickchart-complete:disabled:hover {\n",
              "    background-color: var(--disabled-bg-color);\n",
              "    fill: var(--disabled-fill-color);\n",
              "    box-shadow: none;\n",
              "  }\n",
              "\n",
              "  .colab-df-spinner {\n",
              "    border: 2px solid var(--fill-color);\n",
              "    border-color: transparent;\n",
              "    border-bottom-color: var(--fill-color);\n",
              "    animation:\n",
              "      spin 1s steps(1) infinite;\n",
              "  }\n",
              "\n",
              "  @keyframes spin {\n",
              "    0% {\n",
              "      border-color: transparent;\n",
              "      border-bottom-color: var(--fill-color);\n",
              "      border-left-color: var(--fill-color);\n",
              "    }\n",
              "    20% {\n",
              "      border-color: transparent;\n",
              "      border-left-color: var(--fill-color);\n",
              "      border-top-color: var(--fill-color);\n",
              "    }\n",
              "    30% {\n",
              "      border-color: transparent;\n",
              "      border-left-color: var(--fill-color);\n",
              "      border-top-color: var(--fill-color);\n",
              "      border-right-color: var(--fill-color);\n",
              "    }\n",
              "    40% {\n",
              "      border-color: transparent;\n",
              "      border-right-color: var(--fill-color);\n",
              "      border-top-color: var(--fill-color);\n",
              "    }\n",
              "    60% {\n",
              "      border-color: transparent;\n",
              "      border-right-color: var(--fill-color);\n",
              "    }\n",
              "    80% {\n",
              "      border-color: transparent;\n",
              "      border-right-color: var(--fill-color);\n",
              "      border-bottom-color: var(--fill-color);\n",
              "    }\n",
              "    90% {\n",
              "      border-color: transparent;\n",
              "      border-bottom-color: var(--fill-color);\n",
              "    }\n",
              "  }\n",
              "</style>\n",
              "\n",
              "  <script>\n",
              "    async function quickchart(key) {\n",
              "      const quickchartButtonEl =\n",
              "        document.querySelector('#' + key + ' button');\n",
              "      quickchartButtonEl.disabled = true;  // To prevent multiple clicks.\n",
              "      quickchartButtonEl.classList.add('colab-df-spinner');\n",
              "      try {\n",
              "        const charts = await google.colab.kernel.invokeFunction(\n",
              "            'suggestCharts', [key], {});\n",
              "      } catch (error) {\n",
              "        console.error('Error during call to suggestCharts:', error);\n",
              "      }\n",
              "      quickchartButtonEl.classList.remove('colab-df-spinner');\n",
              "      quickchartButtonEl.classList.add('colab-df-quickchart-complete');\n",
              "    }\n",
              "    (() => {\n",
              "      let quickchartButtonEl =\n",
              "        document.querySelector('#df-c36e4f67-ce4e-4778-93af-a5cb8f95032d button');\n",
              "      quickchartButtonEl.style.display =\n",
              "        google.colab.kernel.accessAllowed ? 'block' : 'none';\n",
              "    })();\n",
              "  </script>\n",
              "</div>\n",
              "\n",
              "    </div>\n",
              "  </div>\n"
            ],
            "application/vnd.google.colaboratory.intrinsic+json": {
              "type": "dataframe",
              "variable_name": "trainData",
              "summary": "{\n  \"name\": \"trainData\",\n  \"rows\": 1490,\n  \"fields\": [\n    {\n      \"column\": \"ArticleId\",\n      \"properties\": {\n        \"dtype\": \"number\",\n        \"std\": 641,\n        \"min\": 2,\n        \"max\": 2224,\n        \"num_unique_values\": 1490,\n        \"samples\": [\n          2160,\n          1360,\n          302\n        ],\n        \"semantic_type\": \"\",\n        \"description\": \"\"\n      }\n    },\n    {\n      \"column\": \"Text\",\n      \"properties\": {\n        \"dtype\": \"string\",\n        \"num_unique_values\": 1440,\n        \"samples\": [\n          \"bellamy under new fire newcastle boss graeme souness has reopened his dispute with craig bellamy after claiming the welshman was  not good enough  for the magpies. bellamy left newcastle to join celtic on loan after a major row with souness. souness - who refused to refer to the 25-year-old by name - said bellamy did not score enough goals  the chap that s just gone has scored 9.3 goals a season in his time in senior football - half of those weren t even in the top flight   said souness.  that s not good enough for a striker at a club like this.  we need to have two strikers who are near 20 goals on a regular basis.   bellamy turned down a move to birmingham in favour of joining celtic after a disagreement about the welsh international playing out of position quickly escalated. earlier in the week  souness had said that he risked losing the confidence of the players and damaging his own reputation if he had not taken a hard line after bellamy accused him of lying.   there are certain things you can forgive and forget   said souness.  but if i d been seen to be weak in this case there was no future for me with the players in the dressing room or any job i have after newcastle.  he could then return to st james  park - and he says that he wants to. however  it would seem unlikely he will play for newcastle again as long as souness remains in charge.\",\n          \"schools to take part in mock poll record numbers of schools across the uk are to take part in a mock general election backed by the government.  some 600 schools have already signed up for the y vote mock elections 2005 run by the hansard society and aimed at boosting interest in politics. pupils in the schools taking part will learn the skills of speech writers  canvassers and political candidates. schools minister stephen twigg said engaging young people s interest was  essential  to the future of democracy.  he added: said  young people who are engaged and motivated by the political process are essential to the future health of our democracy.  the mock elections initiative provides an opportunity for pupils to develop their own understanding of how the democratic process works and why it matters.  by experiencing the election process first hand - from running a campaign to the declaration of the final result - we hope that young people will develop the enthusiasm to take part in the future.  the hansard society  the electoral commission and the department for education and skills are running the programme. pupils will stand as party candidates  speech writers and canvassers. michael raftery  project manager at the hansard society  said:  the y vote mock elections for schools mirror the excitement and buzz of a real election  raising awareness of citizenship  and the benefits of active democracy.  the mock votes will take place around 5 may  widely expected to be the date of the general election. information packs  including ballot papers and manifesto guides  with elections happening in early may were sent out to the 3 000 schools invited to take part.\",\n          \"rap boss arrested over drug find rap mogul marion  suge  knight has been arrested for violating his parole after he was allegedly found with marijuana.  he was arrested in barstow  california  on saturday following an alleged traffic offence. he is expected to be transferred to a state prison while a decision is made on whether he should be released. mr knight  founder of death row records  served a 10-month jail term in 2004 for punching a man while on parole for an assault conviction. police said mr knight was stopped on saturday after performing an illegal u-turn and a search of his car allegedly found marijuana.  he is also accused of not having insurance. a 18-year-old woman in the car was arrested for providing false information and having a fake id card. she was later released. it was his second alleged violation  having previously served half of a nine-year sentence for breaking the terms of his parole. mr knight  39  was jailed in october 1996 following his involvement in a fight with a rival gang just hours before rapper tupac shakur was killed in a las vegas drive-by shooting. he was driving shakur s car at the time and was shot in the head. at the time he was on probation for assaulting two musicians. mr knight  a former bodyguard  set up death row records in the early 1990s with shakur and dr dre among his protegees. but the label has always been dogged by allegations it supports gang culture and fuels the east and west coast rap rivalry.\"\n        ],\n        \"semantic_type\": \"\",\n        \"description\": \"\"\n      }\n    },\n    {\n      \"column\": \"Category\",\n      \"properties\": {\n        \"dtype\": \"category\",\n        \"num_unique_values\": 5,\n        \"samples\": [\n          \"tech\",\n          \"entertainment\",\n          \"politics\"\n        ],\n        \"semantic_type\": \"\",\n        \"description\": \"\"\n      }\n    }\n  ]\n}"
            }
          },
          "metadata": {},
          "execution_count": 70
        }
      ]
    },
    {
      "cell_type": "markdown",
      "source": [
        "ArticleID Column doesn't contains any duplicate Id values."
      ],
      "metadata": {
        "id": "jGdxDPWbx884"
      }
    },
    {
      "cell_type": "code",
      "source": [
        "duplicate_rows = trainData[trainData.duplicated(subset=['ArticleId'], keep=False)]\n",
        "print(duplicate_rows)\n"
      ],
      "metadata": {
        "colab": {
          "base_uri": "https://localhost:8080/"
        },
        "id": "K9CTL8D_xEER",
        "outputId": "2a44ba23-9b1d-450c-8405-8c2ad46dd0ac"
      },
      "execution_count": 71,
      "outputs": [
        {
          "output_type": "stream",
          "name": "stdout",
          "text": [
            "Empty DataFrame\n",
            "Columns: [ArticleId, Text, Category]\n",
            "Index: []\n"
          ]
        }
      ]
    },
    {
      "cell_type": "markdown",
      "source": [
        "DataSet has 1490 rows and 3 columns."
      ],
      "metadata": {
        "id": "XU-HYDipuHtG"
      }
    },
    {
      "cell_type": "code",
      "source": [
        "trainData.shape"
      ],
      "metadata": {
        "colab": {
          "base_uri": "https://localhost:8080/"
        },
        "id": "xFLbWw77uDzZ",
        "outputId": "0abeb3c2-fbc1-4d7b-ee0e-a77e459f089a"
      },
      "execution_count": 72,
      "outputs": [
        {
          "output_type": "execute_result",
          "data": {
            "text/plain": [
              "(1490, 3)"
            ]
          },
          "metadata": {},
          "execution_count": 72
        }
      ]
    },
    {
      "cell_type": "code",
      "source": [
        "print(f'Total Number of Null Values Contained in the Dataset:')\n",
        "print(trainData.isnull().sum())\n"
      ],
      "metadata": {
        "colab": {
          "base_uri": "https://localhost:8080/"
        },
        "id": "luWZaur1ujmE",
        "outputId": "919d3c55-7589-430f-ff2f-eb8686a5d432"
      },
      "execution_count": 73,
      "outputs": [
        {
          "output_type": "stream",
          "name": "stdout",
          "text": [
            "Total Number of Null Values Contained in the Dataset:\n",
            "ArticleId    0\n",
            "Text         0\n",
            "Category     0\n",
            "dtype: int64\n"
          ]
        }
      ]
    },
    {
      "cell_type": "markdown",
      "source": [
        "Accroding the output of following cell indicate ArticleId Feature Column has"
      ],
      "metadata": {
        "id": "PalTq2hpuNrc"
      }
    },
    {
      "cell_type": "code",
      "source": [
        "trainData['ArticleId'].nunique()"
      ],
      "metadata": {
        "colab": {
          "base_uri": "https://localhost:8080/"
        },
        "id": "WzyKzZyyuMNB",
        "outputId": "b33c0c22-3708-49e4-feaa-ed42a4cd4b9f"
      },
      "execution_count": 74,
      "outputs": [
        {
          "output_type": "execute_result",
          "data": {
            "text/plain": [
              "1490"
            ]
          },
          "metadata": {},
          "execution_count": 74
        }
      ]
    },
    {
      "cell_type": "markdown",
      "source": [
        "In Train Dataset, ArticleId Features datatype is 64 bits integer and Text and Category Feature Columns are Object Types."
      ],
      "metadata": {
        "id": "Y12PbOtKtZ0I"
      }
    },
    {
      "cell_type": "code",
      "source": [
        "trainData.info()"
      ],
      "metadata": {
        "colab": {
          "base_uri": "https://localhost:8080/"
        },
        "id": "bLF28wC-s2AW",
        "outputId": "c0187616-be22-4b1f-c00e-e69508833ec6"
      },
      "execution_count": 75,
      "outputs": [
        {
          "output_type": "stream",
          "name": "stdout",
          "text": [
            "<class 'pandas.core.frame.DataFrame'>\n",
            "RangeIndex: 1490 entries, 0 to 1489\n",
            "Data columns (total 3 columns):\n",
            " #   Column     Non-Null Count  Dtype \n",
            "---  ------     --------------  ----- \n",
            " 0   ArticleId  1490 non-null   int64 \n",
            " 1   Text       1490 non-null   object\n",
            " 2   Category   1490 non-null   object\n",
            "dtypes: int64(1), object(2)\n",
            "memory usage: 35.0+ KB\n"
          ]
        }
      ]
    },
    {
      "cell_type": "markdown",
      "source": [
        "Here is the Category Labels present in the DataSet. There are total of 5 different kinds of Category Labels"
      ],
      "metadata": {
        "id": "tplJVs74sUeO"
      }
    },
    {
      "cell_type": "code",
      "source": [
        "print(trainData[\"Category\"].unique())\n",
        "print(\"Total Number of Categories: \",len(trainData[\"Category\"].unique()))"
      ],
      "metadata": {
        "colab": {
          "base_uri": "https://localhost:8080/"
        },
        "id": "BCp0zBf7sJPO",
        "outputId": "00d80caf-4c05-4e46-de12-c27f368d711b"
      },
      "execution_count": 76,
      "outputs": [
        {
          "output_type": "stream",
          "name": "stdout",
          "text": [
            "['business' 'tech' 'politics' 'sport' 'entertainment']\n",
            "Total Number of Categories:  5\n"
          ]
        }
      ]
    },
    {
      "cell_type": "markdown",
      "source": [
        "### Test DataSet"
      ],
      "metadata": {
        "id": "QyjCRUhnoeF5"
      }
    },
    {
      "cell_type": "markdown",
      "source": [
        "Test Dataset contains the ArticleId and Text Columns."
      ],
      "metadata": {
        "id": "9QntjviAtICw"
      }
    },
    {
      "cell_type": "code",
      "source": [
        "testData = pd.read_csv(testDataPath)\n",
        "testData.head()"
      ],
      "metadata": {
        "colab": {
          "base_uri": "https://localhost:8080/",
          "height": 206
        },
        "id": "isEYnFakmCiT",
        "outputId": "59bf6e82-ae19-4425-cea1-775166303663"
      },
      "execution_count": 77,
      "outputs": [
        {
          "output_type": "execute_result",
          "data": {
            "text/plain": [
              "   ArticleId                                               Text\n",
              "0       1018  qpr keeper day heads for preston queens park r...\n",
              "1       1319  software watching while you work software that...\n",
              "2       1138  d arcy injury adds to ireland woe gordon d arc...\n",
              "3        459  india s reliance family feud heats up the ongo...\n",
              "4       1020  boro suffer morrison injury blow middlesbrough..."
            ],
            "text/html": [
              "\n",
              "  <div id=\"df-b92deb8b-9d86-46f1-a362-b9d8e1cbc688\" class=\"colab-df-container\">\n",
              "    <div>\n",
              "<style scoped>\n",
              "    .dataframe tbody tr th:only-of-type {\n",
              "        vertical-align: middle;\n",
              "    }\n",
              "\n",
              "    .dataframe tbody tr th {\n",
              "        vertical-align: top;\n",
              "    }\n",
              "\n",
              "    .dataframe thead th {\n",
              "        text-align: right;\n",
              "    }\n",
              "</style>\n",
              "<table border=\"1\" class=\"dataframe\">\n",
              "  <thead>\n",
              "    <tr style=\"text-align: right;\">\n",
              "      <th></th>\n",
              "      <th>ArticleId</th>\n",
              "      <th>Text</th>\n",
              "    </tr>\n",
              "  </thead>\n",
              "  <tbody>\n",
              "    <tr>\n",
              "      <th>0</th>\n",
              "      <td>1018</td>\n",
              "      <td>qpr keeper day heads for preston queens park r...</td>\n",
              "    </tr>\n",
              "    <tr>\n",
              "      <th>1</th>\n",
              "      <td>1319</td>\n",
              "      <td>software watching while you work software that...</td>\n",
              "    </tr>\n",
              "    <tr>\n",
              "      <th>2</th>\n",
              "      <td>1138</td>\n",
              "      <td>d arcy injury adds to ireland woe gordon d arc...</td>\n",
              "    </tr>\n",
              "    <tr>\n",
              "      <th>3</th>\n",
              "      <td>459</td>\n",
              "      <td>india s reliance family feud heats up the ongo...</td>\n",
              "    </tr>\n",
              "    <tr>\n",
              "      <th>4</th>\n",
              "      <td>1020</td>\n",
              "      <td>boro suffer morrison injury blow middlesbrough...</td>\n",
              "    </tr>\n",
              "  </tbody>\n",
              "</table>\n",
              "</div>\n",
              "    <div class=\"colab-df-buttons\">\n",
              "\n",
              "  <div class=\"colab-df-container\">\n",
              "    <button class=\"colab-df-convert\" onclick=\"convertToInteractive('df-b92deb8b-9d86-46f1-a362-b9d8e1cbc688')\"\n",
              "            title=\"Convert this dataframe to an interactive table.\"\n",
              "            style=\"display:none;\">\n",
              "\n",
              "  <svg xmlns=\"http://www.w3.org/2000/svg\" height=\"24px\" viewBox=\"0 -960 960 960\">\n",
              "    <path d=\"M120-120v-720h720v720H120Zm60-500h600v-160H180v160Zm220 220h160v-160H400v160Zm0 220h160v-160H400v160ZM180-400h160v-160H180v160Zm440 0h160v-160H620v160ZM180-180h160v-160H180v160Zm440 0h160v-160H620v160Z\"/>\n",
              "  </svg>\n",
              "    </button>\n",
              "\n",
              "  <style>\n",
              "    .colab-df-container {\n",
              "      display:flex;\n",
              "      gap: 12px;\n",
              "    }\n",
              "\n",
              "    .colab-df-convert {\n",
              "      background-color: #E8F0FE;\n",
              "      border: none;\n",
              "      border-radius: 50%;\n",
              "      cursor: pointer;\n",
              "      display: none;\n",
              "      fill: #1967D2;\n",
              "      height: 32px;\n",
              "      padding: 0 0 0 0;\n",
              "      width: 32px;\n",
              "    }\n",
              "\n",
              "    .colab-df-convert:hover {\n",
              "      background-color: #E2EBFA;\n",
              "      box-shadow: 0px 1px 2px rgba(60, 64, 67, 0.3), 0px 1px 3px 1px rgba(60, 64, 67, 0.15);\n",
              "      fill: #174EA6;\n",
              "    }\n",
              "\n",
              "    .colab-df-buttons div {\n",
              "      margin-bottom: 4px;\n",
              "    }\n",
              "\n",
              "    [theme=dark] .colab-df-convert {\n",
              "      background-color: #3B4455;\n",
              "      fill: #D2E3FC;\n",
              "    }\n",
              "\n",
              "    [theme=dark] .colab-df-convert:hover {\n",
              "      background-color: #434B5C;\n",
              "      box-shadow: 0px 1px 3px 1px rgba(0, 0, 0, 0.15);\n",
              "      filter: drop-shadow(0px 1px 2px rgba(0, 0, 0, 0.3));\n",
              "      fill: #FFFFFF;\n",
              "    }\n",
              "  </style>\n",
              "\n",
              "    <script>\n",
              "      const buttonEl =\n",
              "        document.querySelector('#df-b92deb8b-9d86-46f1-a362-b9d8e1cbc688 button.colab-df-convert');\n",
              "      buttonEl.style.display =\n",
              "        google.colab.kernel.accessAllowed ? 'block' : 'none';\n",
              "\n",
              "      async function convertToInteractive(key) {\n",
              "        const element = document.querySelector('#df-b92deb8b-9d86-46f1-a362-b9d8e1cbc688');\n",
              "        const dataTable =\n",
              "          await google.colab.kernel.invokeFunction('convertToInteractive',\n",
              "                                                    [key], {});\n",
              "        if (!dataTable) return;\n",
              "\n",
              "        const docLinkHtml = 'Like what you see? Visit the ' +\n",
              "          '<a target=\"_blank\" href=https://colab.research.google.com/notebooks/data_table.ipynb>data table notebook</a>'\n",
              "          + ' to learn more about interactive tables.';\n",
              "        element.innerHTML = '';\n",
              "        dataTable['output_type'] = 'display_data';\n",
              "        await google.colab.output.renderOutput(dataTable, element);\n",
              "        const docLink = document.createElement('div');\n",
              "        docLink.innerHTML = docLinkHtml;\n",
              "        element.appendChild(docLink);\n",
              "      }\n",
              "    </script>\n",
              "  </div>\n",
              "\n",
              "\n",
              "<div id=\"df-8a540675-7e74-4feb-98ac-74b7645ebb13\">\n",
              "  <button class=\"colab-df-quickchart\" onclick=\"quickchart('df-8a540675-7e74-4feb-98ac-74b7645ebb13')\"\n",
              "            title=\"Suggest charts\"\n",
              "            style=\"display:none;\">\n",
              "\n",
              "<svg xmlns=\"http://www.w3.org/2000/svg\" height=\"24px\"viewBox=\"0 0 24 24\"\n",
              "     width=\"24px\">\n",
              "    <g>\n",
              "        <path d=\"M19 3H5c-1.1 0-2 .9-2 2v14c0 1.1.9 2 2 2h14c1.1 0 2-.9 2-2V5c0-1.1-.9-2-2-2zM9 17H7v-7h2v7zm4 0h-2V7h2v10zm4 0h-2v-4h2v4z\"/>\n",
              "    </g>\n",
              "</svg>\n",
              "  </button>\n",
              "\n",
              "<style>\n",
              "  .colab-df-quickchart {\n",
              "      --bg-color: #E8F0FE;\n",
              "      --fill-color: #1967D2;\n",
              "      --hover-bg-color: #E2EBFA;\n",
              "      --hover-fill-color: #174EA6;\n",
              "      --disabled-fill-color: #AAA;\n",
              "      --disabled-bg-color: #DDD;\n",
              "  }\n",
              "\n",
              "  [theme=dark] .colab-df-quickchart {\n",
              "      --bg-color: #3B4455;\n",
              "      --fill-color: #D2E3FC;\n",
              "      --hover-bg-color: #434B5C;\n",
              "      --hover-fill-color: #FFFFFF;\n",
              "      --disabled-bg-color: #3B4455;\n",
              "      --disabled-fill-color: #666;\n",
              "  }\n",
              "\n",
              "  .colab-df-quickchart {\n",
              "    background-color: var(--bg-color);\n",
              "    border: none;\n",
              "    border-radius: 50%;\n",
              "    cursor: pointer;\n",
              "    display: none;\n",
              "    fill: var(--fill-color);\n",
              "    height: 32px;\n",
              "    padding: 0;\n",
              "    width: 32px;\n",
              "  }\n",
              "\n",
              "  .colab-df-quickchart:hover {\n",
              "    background-color: var(--hover-bg-color);\n",
              "    box-shadow: 0 1px 2px rgba(60, 64, 67, 0.3), 0 1px 3px 1px rgba(60, 64, 67, 0.15);\n",
              "    fill: var(--button-hover-fill-color);\n",
              "  }\n",
              "\n",
              "  .colab-df-quickchart-complete:disabled,\n",
              "  .colab-df-quickchart-complete:disabled:hover {\n",
              "    background-color: var(--disabled-bg-color);\n",
              "    fill: var(--disabled-fill-color);\n",
              "    box-shadow: none;\n",
              "  }\n",
              "\n",
              "  .colab-df-spinner {\n",
              "    border: 2px solid var(--fill-color);\n",
              "    border-color: transparent;\n",
              "    border-bottom-color: var(--fill-color);\n",
              "    animation:\n",
              "      spin 1s steps(1) infinite;\n",
              "  }\n",
              "\n",
              "  @keyframes spin {\n",
              "    0% {\n",
              "      border-color: transparent;\n",
              "      border-bottom-color: var(--fill-color);\n",
              "      border-left-color: var(--fill-color);\n",
              "    }\n",
              "    20% {\n",
              "      border-color: transparent;\n",
              "      border-left-color: var(--fill-color);\n",
              "      border-top-color: var(--fill-color);\n",
              "    }\n",
              "    30% {\n",
              "      border-color: transparent;\n",
              "      border-left-color: var(--fill-color);\n",
              "      border-top-color: var(--fill-color);\n",
              "      border-right-color: var(--fill-color);\n",
              "    }\n",
              "    40% {\n",
              "      border-color: transparent;\n",
              "      border-right-color: var(--fill-color);\n",
              "      border-top-color: var(--fill-color);\n",
              "    }\n",
              "    60% {\n",
              "      border-color: transparent;\n",
              "      border-right-color: var(--fill-color);\n",
              "    }\n",
              "    80% {\n",
              "      border-color: transparent;\n",
              "      border-right-color: var(--fill-color);\n",
              "      border-bottom-color: var(--fill-color);\n",
              "    }\n",
              "    90% {\n",
              "      border-color: transparent;\n",
              "      border-bottom-color: var(--fill-color);\n",
              "    }\n",
              "  }\n",
              "</style>\n",
              "\n",
              "  <script>\n",
              "    async function quickchart(key) {\n",
              "      const quickchartButtonEl =\n",
              "        document.querySelector('#' + key + ' button');\n",
              "      quickchartButtonEl.disabled = true;  // To prevent multiple clicks.\n",
              "      quickchartButtonEl.classList.add('colab-df-spinner');\n",
              "      try {\n",
              "        const charts = await google.colab.kernel.invokeFunction(\n",
              "            'suggestCharts', [key], {});\n",
              "      } catch (error) {\n",
              "        console.error('Error during call to suggestCharts:', error);\n",
              "      }\n",
              "      quickchartButtonEl.classList.remove('colab-df-spinner');\n",
              "      quickchartButtonEl.classList.add('colab-df-quickchart-complete');\n",
              "    }\n",
              "    (() => {\n",
              "      let quickchartButtonEl =\n",
              "        document.querySelector('#df-8a540675-7e74-4feb-98ac-74b7645ebb13 button');\n",
              "      quickchartButtonEl.style.display =\n",
              "        google.colab.kernel.accessAllowed ? 'block' : 'none';\n",
              "    })();\n",
              "  </script>\n",
              "</div>\n",
              "\n",
              "    </div>\n",
              "  </div>\n"
            ],
            "application/vnd.google.colaboratory.intrinsic+json": {
              "type": "dataframe",
              "variable_name": "testData",
              "summary": "{\n  \"name\": \"testData\",\n  \"rows\": 735,\n  \"fields\": [\n    {\n      \"column\": \"ArticleId\",\n      \"properties\": {\n        \"dtype\": \"number\",\n        \"std\": 643,\n        \"min\": 1,\n        \"max\": 2225,\n        \"num_unique_values\": 735,\n        \"samples\": [\n          1810,\n          1556,\n          1288\n        ],\n        \"semantic_type\": \"\",\n        \"description\": \"\"\n      }\n    },\n    {\n      \"column\": \"Text\",\n      \"properties\": {\n        \"dtype\": \"string\",\n        \"num_unique_values\": 722,\n        \"samples\": [\n          \"running around the olympics it was back to official duties last week in my role as an ambassador to london s 2012 olympic bid. but i still managed to do all my marathon training.  all the sporting people on the capital s bid team think i m mad to be taking part in the london marathon. the bid chairman  lord coe  admitted he would never dream of running a marathon  even though he was an olympic middle-distance runner.  kelly holmes  former hurdler alan pascoe and former sprinter frankie fredericks - who is now an ioc member - all wanted to know why anyone would want to run that far. you d have thought all these athletes  who have been running for most of their lives  wouldn t think it would be that bad. but the only person who was positive about my intentions was tanni grey thompson  who has won the london marathon wheelchair race six times. even though it was a very busy week entertaining the international olympic committee s (ioc) evaluation commission  i actually found my running schedule easier to follow. when i m at home  i get distracted by all sorts of things but for the five days i was in london  i was in a pressurised situation  but i found it easy to relax by running.  on wednesday  the presentations to the ioc team did not finish until the early evening  so i just managed to squeeze in a 45-minute run. we had an early start on thursday because we had to visit all the olympic sites around london  that was pretty shattering  but when we got back to the hotel  i got back on the treadmill. on friday evening i went along to the special dinner at buckingham palace which was a nice occasion. i never feel guilty about eating  especially when i m exercising. and because it was a rest day i didn t have to feel bad about missing my training either. anyway  i managed to do another quick run on saturday ahead of the final ioc presentations  before heading home for my daughter s birthday.  when i was in london i did all of my runs on the treadmill  which isn t the same as exercising outdoors. one of the ioc s technical staff from australia ran alongside me one day. we talked about the sydney olympics and that made the time go past more quickly. i do find it quite comfortable running in the gym because there is more cushioning. but when you re gearing up to running on the road you need your body to get used to that jarring feeling when your feet hit the pavement. it was good to get out on the road for my long run on sunday. after the week i d had i was a bit concerned i wouldn t be able to complete it. but i coped with it very well and  even though it was bitterly cold  i put in 15-and-a-half miles - only another 11 to go then.  - this year steve will donate all the proceeds from his london marathon efforts to victims of the tsunami.steve will be writing a regular column on the ups and downs of his marathon training for the bbc sport website.he will be raising money through the steve redgrave trust which supports the association of children s hospices  the children with leukaemia charity  and the trust s own project which aims to provide inner-city schools with rowing equipment.\",\n          \"strong quarterly growth for nike nike has reported its best second-quarter earnings  helped by strong demand for its athletic shoes and converse sneakers.  the global sports giant said it posted a profit of $261.9m (\\u00a3135.6m)  for the three months to 30 november  up from $179.1m in the same period last year. revenues increased 11% to $3.1bn  from $2.8bn for the same period in 2003. nike  whose products are endorsed by tiger woods among other sports stars  said  demand continues to grow . the results came after a strong first quarter of the year for the firm based in beaverton  oregon.  philip knight  chairman and chief executive  said:  nike s second-quarter revenues and earnings per share reached all-time high levels as a result of solid performance across our global portfolio.  our businesses in the united states and emerging markets such as china  russia and turkey  combined with favourable european exchange rates  helped drive much of this growth.  he added:  with the first half of our fiscal year in the books  we remain confident that our business strategy and consistent execution will allow us to deliver on our goals of healthy  profitable growth.  the firm reported worldwide futures orders for athletic footwear and gear  scheduled for delivery from december 2004 to april 2005  of $4.9bn. that is 9.1% higher than such orders reported for the same period last year.\",\n          \"golden rule  intact  says ex-aide chancellor gordon brown will meet his golden economic rule  with a margin to spare   according to his former chief economic adviser.  formerly one of mr brown s closest treasury aides  ed balls hinted at a budget giveaway on 16 march. he said he hoped more would be done to build on current tax credit rules. any rate rise ahead of an expected may election would not affect the labour party s chances of winning  he added. last july  mr balls won the right to step down from his treasury position and run for parliament  defending the labour stronghold of normanton in west yorkshire.  mr balls rejected the allegation that mr brown had been sidelined in the election campaign  saying he was playing a  different  role to the one he played in the last two elections. he rejected speculation that mr brown was considering becoming foreign secretary  saying his recent travels had been linked to efforts to boost international development. gordon brown s decision to announce the date of the budget while on a trip to china was a  sensible thing to do   since he was talking about skills and investment at the time  mr balls told the bbc. commenting on speculation of an interest rate rise  he said it was not within the remit of the bank of england s monetary policy committee (mpc) to factor a potential election into its rate decisions. expectations of a rate rise have gathered pace after figures showed that house prices are still rising. consumer borrowing rose at a near-record pace in january.  i don t believe it would be a big election issue in britain or a problem for labour   mr balls said. prime minister tony blair has yet to name the date of the election  but most pundits are betting on 5 may as the likely day.\"\n        ],\n        \"semantic_type\": \"\",\n        \"description\": \"\"\n      }\n    }\n  ]\n}"
            }
          },
          "metadata": {},
          "execution_count": 77
        }
      ]
    },
    {
      "cell_type": "markdown",
      "source": [
        "TestDataSet also doen't has null values."
      ],
      "metadata": {
        "id": "c13A985LwnUH"
      }
    },
    {
      "cell_type": "code",
      "source": [
        "print(f'Total Number of Null Values Contained in the Dataset:')\n",
        "print(testData.isnull().sum())\n"
      ],
      "metadata": {
        "colab": {
          "base_uri": "https://localhost:8080/"
        },
        "id": "0Xzx_GsQsyHX",
        "outputId": "88a10be3-efc0-481f-cfa0-8d01d8a76a8b"
      },
      "execution_count": 78,
      "outputs": [
        {
          "output_type": "stream",
          "name": "stdout",
          "text": [
            "Total Number of Null Values Contained in the Dataset:\n",
            "ArticleId    0\n",
            "Text         0\n",
            "dtype: int64\n"
          ]
        }
      ]
    },
    {
      "cell_type": "markdown",
      "source": [
        "## Data Distributation"
      ],
      "metadata": {
        "id": "2HESVxvsyIyD"
      }
    },
    {
      "cell_type": "markdown",
      "source": [
        "Here is the data distribuation of the Category Values in the Train DataSet"
      ],
      "metadata": {
        "id": "8tUXm9Ieyee_"
      }
    },
    {
      "cell_type": "code",
      "source": [
        "fig, ax = plt.subplots(figsize=(8, 5))\n",
        "sns.histplot(\n",
        "    data = trainData,\n",
        "    x = 'Category',\n",
        "    hue = 'Category',\n",
        "    palette = 'colorblind',\n",
        "    legend = False,\n",
        "    ).set(\n",
        "        title = 'Category Counts');"
      ],
      "metadata": {
        "colab": {
          "base_uri": "https://localhost:8080/",
          "height": 487
        },
        "id": "0DWw1eR7wl3Q",
        "outputId": "9aadca10-9978-4364-a265-33885df872c5"
      },
      "execution_count": 79,
      "outputs": [
        {
          "output_type": "display_data",
          "data": {
            "text/plain": [
              "<Figure size 800x500 with 1 Axes>"
            ],
            "image/png": "[encoded data removed]"
          },
          "metadata": {}
        }
      ]
    },
    {
      "cell_type": "code",
      "source": [
        "# Calculate category counts\n",
        "category_counts = trainData['Category'].value_counts()\n",
        "\n",
        "# Create a pie chart\n",
        "plt.figure(figsize=(4, 4))\n",
        "plt.pie(category_counts, labels=category_counts.index, autopct='%1.1f%%', startangle=140,)\n",
        "plt.title('Category Distribution')\n",
        "plt.axis('equal')  # Equal aspect ratio ensures that pie is drawn as a circle.\n",
        "plt.show()"
      ],
      "metadata": {
        "colab": {
          "base_uri": "https://localhost:8080/",
          "height": 374
        },
        "id": "GCZVClScyRdH",
        "outputId": "e6f1a0ba-43c1-4b89-dc5b-8c673867a962"
      },
      "execution_count": 80,
      "outputs": [
        {
          "output_type": "display_data",
          "data": {
            "text/plain": [
              "<Figure size 400x400 with 1 Axes>"
            ],
            "image/png": "[encoded data removed]"
          },
          "metadata": {}
        }
      ]
    },
    {
      "cell_type": "markdown",
      "source": [
        "Sport Value contribute most and tech contribute least the Category Column.All the values' contributation amount more or less similiary to each other."
      ],
      "metadata": {
        "id": "cx3Ibui6_dy9"
      }
    },
    {
      "cell_type": "markdown",
      "source": [
        "Now let's inspect the text of trainData' first column."
      ],
      "metadata": {
        "id": "iUESIGbLAhAc"
      }
    },
    {
      "cell_type": "code",
      "source": [
        "trainData['Text'][0]"
      ],
      "metadata": {
        "colab": {
          "base_uri": "https://localhost:8080/",
          "height": 182
        },
        "id": "1ZX7NxiByzPT",
        "outputId": "bca7fe3e-ab01-48d9-950a-626f5bf3cd05"
      },
      "execution_count": 81,
      "outputs": [
        {
          "output_type": "execute_result",
          "data": {
            "text/plain": [
              "'worldcom ex-boss launches defence lawyers defending former worldcom chief bernie ebbers against a battery of fraud charges have called a company whistleblower as their first witness.  cynthia cooper  worldcom s ex-head of internal accounting  alerted directors to irregular accounting practices at the us telecoms giant in 2002. her warnings led to the collapse of the firm following the discovery of an $11bn (£5.7bn) accounting fraud. mr ebbers has pleaded not guilty to charges of fraud and conspiracy.  prosecution lawyers have argued that mr ebbers orchestrated a series of accounting tricks at worldcom  ordering employees to hide expenses and inflate revenues to meet wall street earnings estimates. but ms cooper  who now runs her own consulting business  told a jury in new york on wednesday that external auditors arthur andersen had approved worldcom s accounting in early 2001 and 2002. she said andersen had given a  green light  to the procedures and practices used by worldcom. mr ebber s lawyers have said he was unaware of the fraud  arguing that auditors did not alert him to any problems.  ms cooper also said that during shareholder meetings mr ebbers often passed over technical questions to the company s finance chief  giving only  brief  answers himself. the prosecution s star witness  former worldcom financial chief scott sullivan  has said that mr ebbers ordered accounting adjustments at the firm  telling him to  hit our books . however  ms cooper said mr sullivan had not mentioned  anything uncomfortable  about worldcom s accounting during a 2001 audit committee meeting. mr ebbers could face a jail sentence of 85 years if convicted of all the charges he is facing. worldcom emerged from bankruptcy protection in 2004  and is now known as mci. last week  mci agreed to a buyout by verizon communications in a deal valued at $6.75bn.'"
            ],
            "application/vnd.google.colaboratory.intrinsic+json": {
              "type": "string"
            }
          },
          "metadata": {},
          "execution_count": 81
        }
      ]
    },
    {
      "cell_type": "markdown",
      "source": [
        "According the outputed text data, we can assume that the text has already processed a bit.Capitalization and spelling are two important factors when it comes to natural language processing. But the text still need to do processing such as\n",
        "stemming, lemmatization and  removing of stopwords, punctuations and unicode characters such as emojis in advance.\n"
      ],
      "metadata": {
        "id": "yleDfg-rDmhT"
      }
    },
    {
      "cell_type": "code",
      "source": [
        "import nltk\n",
        "nltk.download('stopwords')\n",
        "nltk.download('punkt')"
      ],
      "metadata": {
        "colab": {
          "base_uri": "https://localhost:8080/"
        },
        "id": "5fXeu24ekWwD",
        "outputId": "0b2ad5bd-5eaf-4d41-dd05-920fbf11abd8"
      },
      "execution_count": 82,
      "outputs": [
        {
          "output_type": "stream",
          "name": "stderr",
          "text": [
            "[nltk_data] Downloading package stopwords to /root/nltk_data...\n",
            "[nltk_data]   Package stopwords is already up-to-date!\n",
            "[nltk_data] Downloading package punkt to /root/nltk_data...\n",
            "[nltk_data]   Package punkt is already up-to-date!\n"
          ]
        },
        {
          "output_type": "execute_result",
          "data": {
            "text/plain": [
              "True"
            ]
          },
          "metadata": {},
          "execution_count": 82
        }
      ]
    },
    {
      "cell_type": "code",
      "source": [
        "import pandas as pd\n",
        "import re\n",
        "import spacy\n",
        "from nltk.corpus import stopwords\n",
        "from nltk.stem import PorterStemmer\n",
        "\n",
        "# Load English language model in spaCy\n",
        "nlp = spacy.load(\"en_core_web_sm\")\n",
        "\n",
        "# Define stopwords\n",
        "stop_words = set(stopwords.words('english'))\n",
        "\n",
        "# Define stemmer\n",
        "stemmer = PorterStemmer()\n",
        "\n",
        "def clean_text(text):\n",
        "    # Remove Unicode characters and emojis\n",
        "    cleaned_text = text.encode('ascii', 'ignore').decode('ascii')\n",
        "\n",
        "    # Tokenize text using spaCy for lemmatization\n",
        "    doc = nlp(cleaned_text)\n",
        "\n",
        "    # Lemmatization\n",
        "    lemmatized_text = ' '.join([token.lemma_ for token in doc])\n",
        "\n",
        "    # Remove stopwords and perform stemming\n",
        "    cleaned_words = [stemmer.stem(word) for word in lemmatized_text.split() if word.lower() not in stop_words]\n",
        "\n",
        "    # Remove punctuation\n",
        "    cleaned_text = re.sub(r'[^\\w\\s]', '', ' '.join(cleaned_words))\n",
        "\n",
        "    return cleaned_text\n",
        "\n",
        "# Example usage:\n",
        "# Assuming df is your DataFrame with a 'Text' column\n"
      ],
      "metadata": {
        "id": "d78_zulkj5O4"
      },
      "execution_count": 83,
      "outputs": []
    },
    {
      "cell_type": "code",
      "source": [
        "trainData['Cleaned_Text'] = trainData['Text'].apply(clean_text)"
      ],
      "metadata": {
        "id": "f6uA1VejRig5"
      },
      "execution_count": 84,
      "outputs": []
    },
    {
      "cell_type": "code",
      "source": [
        "trainData['Cleaned_Text'][0]"
      ],
      "metadata": {
        "colab": {
          "base_uri": "https://localhost:8080/",
          "height": 182
        },
        "id": "-FsvIHZ_j7S8",
        "outputId": "aa7a4b07-4956-48ca-a0ec-272ae5ed55db"
      },
      "execution_count": 85,
      "outputs": [
        {
          "output_type": "execute_result",
          "data": {
            "text/plain": [
              "'worldcom ex  boss launch defenc lawyer defend former worldcom chief berni ebber batteri fraud charg call compani whistleblow first wit  cynthia cooper worldcom ex  head intern account alert director irregular account practic us telecom giant 2002  warn lead collaps firm follow discoveri  11bn  57bn  account fraud  mr ebber plead guilti charg fraud conspiraci  prosecut lawyer argu mr ebber orchestr seri account trick worldcom order employe hide expens inflat revenu meet wall street earn estim  ms cooper run consult busi tell juri new york wednesday extern auditor arthur andersen approv worldcom account earli 2001 2002  say andersen give green light procedur practic use worldcom  mr ebber lawyer say unawar fraud argu auditor alert problem  ms cooper also say sharehold meet mr ebber often pass technic question compani financ chief give brief answer  prosecut star wit former worldcom financi chief scott sullivan say mr ebber order account adjust firm tell hit book  howev ms cooper say mr sullivan mention anyth uncomfort worldcom account 2001 audit committe meet  mr ebber could face jail sentenc 85 year convict charg face  worldcom emerg bankruptci protect 2004 know mci  last week mci agre buyout verizon commun deal valu  675bn '"
            ],
            "application/vnd.google.colaboratory.intrinsic+json": {
              "type": "string"
            }
          },
          "metadata": {},
          "execution_count": 85
        }
      ]
    },
    {
      "cell_type": "code",
      "source": [
        "trainData['num_words'] = trainData['Cleaned_Text'].apply(lambda lst: len(lst))"
      ],
      "metadata": {
        "id": "AITGpkBvq3TA"
      },
      "execution_count": 86,
      "outputs": []
    },
    {
      "cell_type": "markdown",
      "source": [
        "World Statstic"
      ],
      "metadata": {
        "id": "HrFNYiCapRdp"
      }
    },
    {
      "cell_type": "markdown",
      "source": [
        "\n",
        "\n",
        "After cleaning, we can see (below) the number of words per article. We see most articles are around 2000 words. However, we also see we have some severe outliers that reach up to more than 7500 words! We actually will remove these outliers as they might actually impact our model later on, in addition to creating more\n",
        "features (words) to have to calculate within the model.\n"
      ],
      "metadata": {
        "id": "TS2a1Hrm1mo2"
      }
    },
    {
      "cell_type": "code",
      "source": [
        "# number of tokens (words) per article\n",
        "fig, ax = plt.subplots(figsize=(15, 5))\n",
        "sns.histplot(\n",
        "    data = trainData,\n",
        "    x = 'num_words',\n",
        "    palette = 'colorblind',\n",
        "    ).set(\n",
        "        title = 'Number of Words per Article');"
      ],
      "metadata": {
        "colab": {
          "base_uri": "https://localhost:8080/",
          "height": 426
        },
        "id": "rJmtQcT11nJb",
        "outputId": "cbe8ef78-0974-4994-e82b-bd5390d6a9bd"
      },
      "execution_count": 87,
      "outputs": [
        {
          "output_type": "stream",
          "name": "stderr",
          "text": [
            "<ipython-input-87-a4cdf6b36aa1>:3: UserWarning: Ignoring `palette` because no `hue` variable has been assigned.\n",
            "  sns.histplot(\n"
          ]
        },
        {
          "output_type": "display_data",
          "data": {
            "text/plain": [
              "<Figure size 1500x500 with 1 Axes>"
            ],
            "image/png": "[encoded data removed]"
          },
          "metadata": {}
        }
      ]
    },
    {
      "cell_type": "markdown",
      "source": [
        "So let's remove the outliner otherwise it could impact the model performance."
      ],
      "metadata": {
        "id": "FmidXhc52CkN"
      }
    },
    {
      "cell_type": "code",
      "source": [
        "\n",
        "\n",
        "#remove outlier articles (longer than 6200 words)\n",
        "trainData = trainData[trainData['num_words'] < 6200]\n",
        "len(trainData)\n",
        "\n"
      ],
      "metadata": {
        "colab": {
          "base_uri": "https://localhost:8080/"
        },
        "id": "6C7awUtt2Jf1",
        "outputId": "7e6eb2db-0339-4986-89bc-862768a80d95"
      },
      "execution_count": 88,
      "outputs": [
        {
          "output_type": "execute_result",
          "data": {
            "text/plain": [
              "1487"
            ]
          },
          "metadata": {},
          "execution_count": 88
        }
      ]
    },
    {
      "cell_type": "markdown",
      "source": [
        "Here is the output of words per category"
      ],
      "metadata": {
        "id": "9dM8uv_w2VoX"
      }
    },
    {
      "cell_type": "code",
      "source": [
        "fig, ax = plt.subplots(figsize=(15, 5))\n",
        "sns.boxplot(\n",
        "    data = trainData,\n",
        "    x = 'num_words',\n",
        "    y = 'Category',\n",
        "    palette = 'colorblind'\n",
        "    ).set(\n",
        "        title = 'Number of Words Per Category');"
      ],
      "metadata": {
        "colab": {
          "base_uri": "https://localhost:8080/",
          "height": 480
        },
        "id": "4rVVPOiL2OFE",
        "outputId": "907cc622-1c87-4442-dbb3-bd86c5fe2917"
      },
      "execution_count": 89,
      "outputs": [
        {
          "output_type": "stream",
          "name": "stderr",
          "text": [
            "<ipython-input-89-c057e2f8b037>:2: FutureWarning: \n",
            "\n",
            "Passing `palette` without assigning `hue` is deprecated and will be removed in v0.14.0. Assign the `y` variable to `hue` and set `legend=False` for the same effect.\n",
            "\n",
            "  sns.boxplot(\n"
          ]
        },
        {
          "output_type": "display_data",
          "data": {
            "text/plain": [
              "<Figure size 1500x500 with 1 Axes>"
            ],
            "image/png": "[encoded data removed]"
          },
          "metadata": {}
        }
      ]
    },
    {
      "cell_type": "markdown",
      "source": [
        "## Model Building"
      ],
      "metadata": {
        "id": "FEjqfyTv2cvI"
      }
    },
    {
      "cell_type": "code",
      "source": [
        "train_df = trainData.copy()"
      ],
      "metadata": {
        "id": "f87iS9zg2Yo0"
      },
      "execution_count": 90,
      "outputs": []
    },
    {
      "cell_type": "code",
      "source": [
        "def predict(w_matrix):\n",
        "    sortedW = np.argsort(w_matrix)\n",
        "    n_predictions, maxValue = sortedW.shape\n",
        "    predictions = [[sortedW[i][maxValue - 1]] for i in range(n_predictions)]\n",
        "    topics = np.empty(n_predictions, dtype = np.int64)\n",
        "    for i in range(n_predictions):\n",
        "        topics[i] = predictions[i][0]\n",
        "    return topics"
      ],
      "metadata": {
        "id": "nIHT2p2C2l5o"
      },
      "execution_count": 91,
      "outputs": []
    },
    {
      "cell_type": "code",
      "source": [
        "def label_permute(ytdf,yp,n=5):\n",
        "    \"\"\"\n",
        "    ytdf: labels dataframe object\n",
        "    yp: clustering label prediction output\n",
        "    Returns permuted label order and accuracy.\n",
        "    Example output: (3, 4, 1, 2, 0), 0.74\n",
        "    \"\"\"\n",
        "    perms = list(itertools.permutations([0, 1, 2, 3, 4]))    #create permutation list\n",
        "    best_labels = []\n",
        "    best_acc = 0\n",
        "    current = {}\n",
        "    labels = ['business', 'tech', 'politics', 'sport', 'entertainment']\n",
        "    for perm in perms:\n",
        "        for i in range(n):\n",
        "            current[labels[i]] = perm[i]\n",
        "            if len(current) == 5:\n",
        "                conditions = [\n",
        "                    (ytdf['Category'] == current['business']),\n",
        "                    (ytdf['Category'] == current['tech']),\n",
        "                    (ytdf['Category'] == current['politics']),\n",
        "                    (ytdf['Category'] == current['sport']),\n",
        "                    (ytdf['Category'] == current['entertainment'])]\n",
        "                ytdf['test'] = ytdf['Category'].map(current)\n",
        "                current_accuracy = accuracy_score(ytdf['test'], yp)\n",
        "                if current_accuracy > best_acc:\n",
        "                    best_acc = current_accuracy\n",
        "                    best_labels = perm\n",
        "                    ytdf['best'] = ytdf['test']\n",
        "    return best_labels, best_acc"
      ],
      "metadata": {
        "id": "PzarVzMk2nQO"
      },
      "execution_count": 92,
      "outputs": []
    },
    {
      "cell_type": "markdown",
      "source": [
        "### **Natural Language Processing (NLP)**\n"
      ],
      "metadata": {
        "id": "ldCmSdEynsst"
      }
    },
    {
      "cell_type": "markdown",
      "source": [
        "\n",
        "NLP is a field of artificial intelligence that focuses on the interaction between computers and humans through natural language. Words are the fundamental units of language, and NLP tasks often involve processing and understanding these words in various ways. Here's a brief overview of how NLP works with words:\n",
        "\n",
        "**Tokenization**:\n",
        "\n",
        "Tokenization is the process of breaking down a text into individual words or tokens. This step is crucial for further analysis because it provides the basic units for processing.\n",
        "For example, the sentence \"The quick brown fox jumps over the lazy dog\" would be tokenized into [\"The\", \"quick\", \"brown\", \"fox\", \"jumps\", \"over\", \"the\", \"lazy\", \"dog\"].\n",
        "\n",
        "**Normalization**:\n",
        "\n",
        "Normalization involves converting words to a standard format to ensure consistency. This may include converting all words to lowercase, removing punctuation marks, and handling special characters.\n",
        "For example, \"HELLO\" and \"hello\" would be normalized to \"hello\".\n",
        "\n",
        "**Stopword Removal**:\n",
        "\n",
        "Stopwords are common words that often do not carry much meaning in a text, such as \"the\", \"is\", \"and\", etc. In many NLP tasks, stopwords are removed to focus on more meaningful words.\n",
        "For example, \"The quick brown fox\" might have \"the\" removed, leaving \"quick brown fox\".\n",
        "Stemming and Lemmatization:\n",
        "\n",
        "Stemming and lemmatization are techniques used to reduce words to their base or root form.\n",
        "Stemming removes suffixes from words to obtain their root form. For example, \"running\" and \"runs\" would both be stemmed to \"run\".\n",
        "Lemmatization, on the other hand, reduces words to their canonical form (lemma) based on their dictionary definition. For example, \"am\", \"are\", and \"is\" would all be lemmatized to \"be\".\n",
        "\n",
        "**Word Embeddings**:\n",
        "\n",
        "Word embeddings represent words as dense vectors in a continuous vector space. These vectors capture semantic relationships between words based on their usage in context.\n",
        "Techniques like Word2Vec, GloVe, and FastText are commonly used to generate word embeddings.\n",
        "\n",
        "**Semantic Analysis**:\n",
        "\n",
        "NLP tasks often involve analyzing the meaning of words in context. This may include sentiment analysis, named entity recognition, part-of-speech tagging, and syntactic parsing.\n",
        "In summary, NLP works with words by processing and understanding them in various ways, from basic tokenization and normalization to more advanced techniques like word embeddings and semantic analysis. These techniques enable computers to analyze, understand, and generate human language text."
      ],
      "metadata": {
        "id": "wod_1vknmFnB"
      }
    },
    {
      "cell_type": "markdown",
      "source": [
        "\n",
        "**Vectorization:**\n",
        "\n",
        "TfidfVectorizer converts the raw text documents into a matrix representation, where each row corresponds to a document and each column corresponds to a term (word).\n",
        "The value in each cell of the matrix represents the TF-IDF score of the corresponding term in the corresponding document.\n",
        "Normalization:\n",
        "\n",
        "\n",
        "***TfidfVectorizer*** is to convert a collection of raw documents into a matrix of TF-IDF features. TF-IDF stands for Term Frequency-Inverse Document Frequency. It is a statistical measure used to evaluate the importance of a word in a document relative to a collection of documents (corpus).\n",
        "\n",
        "\n",
        "**TF-IDF Weighting:**\n",
        "\n",
        "TF-IDF is calculated by multiplying the TF of a term by the IDF of the term. The resulting TF-IDF score reflects the importance of a term within a document relative to the entire corpus.\n",
        "TfidfVectorizer calculates the TF-IDF score for each term in each document.\n",
        "\n",
        "\n",
        "TfidfVectorizer optionally normalizes the TF-IDF matrix to have unit norm, which can improve the performance of machine learning algorithms that require normalized input data.\n",
        "\n",
        "**TF-IDF Calculation**:\n",
        "\n",
        "The TF-IDF score for a word in a document is calculated by multiplying its Term Frequency (TF) by its Inverse Document Frequency (IDF). The formula is as follows:\n",
        "\n",
        "TF-IDF(t,d,D) = TF(t,d) x IDF(t,D)\n",
        "\n",
        "where\n",
        "TF(t,d) is the Term Frequency of word t in document d.\n",
        "IDF(t,D) is the Inverse Document Frequency of word t in the corpus D.\n",
        "\n",
        "**Application in Word Embedding**:\n",
        "TF-IDF can be used to convert text documents into numerical vectors, also known as word embeddings. Each word in the vocabulary is assigned a unique TF-IDF score based on its importance in individual documents and across the entire corpus. These TF-IDF scores serve as features for machine learning models in tasks such as classification, clustering, or information retrieval."
      ],
      "metadata": {
        "id": "3N0VBLFY2zFp"
      }
    },
    {
      "cell_type": "code",
      "source": [
        "from sklearn.feature_extraction.text import TfidfVectorizer\n",
        "tfidvec = TfidfVectorizer(min_df = 2,\n",
        "                          max_df = 0.95,\n",
        "                          norm = 'l2',\n",
        "                          stop_words = 'english')\n",
        "tfidvec_train = tfidvec.fit_transform(train_df['Cleaned_Text'])\n",
        "\n",
        "from sklearn.decomposition import NMF\n",
        "import itertools\n",
        "from sklearn.metrics import accuracy_score\n",
        "\n",
        "#create model\n",
        "nmf_model = NMF(n_components=5,\n",
        "                init='nndsvda',\n",
        "                solver = 'mu',\n",
        "                beta_loss = 'kullback-leibler',\n",
        "                l1_ratio = 0.5,\n",
        "                random_state = 101)\n",
        "nmf_model.fit(tfidvec_train)\n",
        "\n",
        "#view results\n",
        "yhat_train = predict(nmf_model.transform(tfidvec_train))\n",
        "label_order, accuracy = label_permute(train_df, yhat_train )\n",
        "print('accuracy=', accuracy)"
      ],
      "metadata": {
        "colab": {
          "base_uri": "https://localhost:8080/"
        },
        "id": "C9oxR0it3RLd",
        "outputId": "13b750d4-d781-41e0-86c0-173dd071cbeb"
      },
      "execution_count": 94,
      "outputs": [
        {
          "output_type": "stream",
          "name": "stdout",
          "text": [
            "accuracy= 0.948890383322125\n"
          ]
        }
      ]
    },
    {
      "cell_type": "markdown",
      "source": [
        "### Tuning Hyperparameters"
      ],
      "metadata": {
        "id": "2UWcriHJjZyQ"
      }
    },
    {
      "cell_type": "code",
      "source": [
        "from sklearn.feature_extraction.text import TfidfVectorizer\n",
        "tfidvec = TfidfVectorizer(min_df = 2,\n",
        "                          max_df = 0.95,\n",
        "                          norm = 'l2',\n",
        "                          stop_words = 'english')\n",
        "tfidvec_train = tfidvec.fit_transform(train_df['Cleaned_Text'])\n",
        "from sklearn.decomposition import NMF\n",
        "import itertools\n",
        "from sklearn.metrics import accuracy_score\n",
        "\n",
        "#create model\n",
        "nmf_model2 = NMF(n_components=3,\n",
        "                init='nndsvda',\n",
        "                solver = 'mu',\n",
        "                beta_loss = 'kullback-leibler',\n",
        "                l1_ratio = 0.5,\n",
        "                random_state = 101)\n",
        "nmf_model2.fit(tfidvec_train)\n",
        "\n",
        "#view results\n",
        "yhat_train = predict(nmf_model2.transform(tfidvec_train))\n",
        "label_order, accuracy = label_permute(train_df, yhat_train )\n",
        "print('accuracy=', accuracy) ## 0.6072629455279085\n",
        "\n",
        "from sklearn.feature_extraction.text import TfidfVectorizer\n",
        "tfidvec = TfidfVectorizer(min_df = 2,\n",
        "                          max_df = 0.95,\n",
        "                          norm = 'l2',\n",
        "                          stop_words = 'english')\n",
        "tfidvec_train = tfidvec.fit_transform(train_df['Cleaned_Text'])\n",
        "from sklearn.decomposition import NMF\n",
        "import itertools\n",
        "from sklearn.metrics import accuracy_score\n",
        "\n",
        "#create model\n",
        "nmf_model2 = NMF(n_components=7,\n",
        "                init='nndsvda',\n",
        "                solver = 'mu',\n",
        "                beta_loss = 'kullback-leibler',\n",
        "                l1_ratio = 0.5,\n",
        "                random_state = 101)\n",
        "nmf_model2.fit(tfidvec_train)\n",
        "\n",
        "#view results\n",
        "yhat_train = predict(nmf_model2.transform(tfidvec_train))\n",
        "label_order, accuracy = label_permute(train_df, yhat_train )\n",
        "print('accuracy=', accuracy) ## 0.7659717552118359"
      ],
      "metadata": {
        "colab": {
          "base_uri": "https://localhost:8080/"
        },
        "id": "LKQAJimMWi8L",
        "outputId": "fe2fb473-5e46-463a-8965-f08bb2fd12ca"
      },
      "execution_count": 126,
      "outputs": [
        {
          "output_type": "stream",
          "name": "stdout",
          "text": [
            "accuracy= 0.6072629455279085\n",
            "accuracy= 0.7659717552118359\n"
          ]
        }
      ]
    },
    {
      "cell_type": "markdown",
      "source": [
        "Chaning the n_components larger or lesser than 5 doesn't increase the accuracy score. So let keep the n_components values as 5."
      ],
      "metadata": {
        "id": "AP1dzhN6XFPb"
      }
    },
    {
      "cell_type": "code",
      "source": [
        "from sklearn.feature_extraction.text import TfidfVectorizer\n",
        "tfidvec = TfidfVectorizer(min_df = 2,\n",
        "                          max_df = 0.95,\n",
        "                          norm = 'l2',\n",
        "                          stop_words = 'english')\n",
        "tfidvec_train = tfidvec.fit_transform(train_df['Cleaned_Text'])\n",
        "from sklearn.decomposition import NMF\n",
        "import itertools\n",
        "from sklearn.metrics import accuracy_score\n",
        "\n",
        "#create model\n",
        "nmf_model2 = NMF(n_components=5,\n",
        "                init='nndsvda',\n",
        "                solver = 'mu',\n",
        "                beta_loss = 'frobenius',\n",
        "                l1_ratio = 0.5,\n",
        "                random_state = 101)\n",
        "nmf_model2.fit(tfidvec_train)\n",
        "\n",
        "#view results\n",
        "yhat_train = predict(nmf_model2.transform(tfidvec_train))\n",
        "label_order, accuracy = label_permute(train_df, yhat_train )\n",
        "print('accuracy=', accuracy) ## 0.9132481506388702"
      ],
      "metadata": {
        "colab": {
          "base_uri": "https://localhost:8080/"
        },
        "id": "PlHJmN9WWRjM",
        "outputId": "eb430f06-a78d-458b-b28e-2da3ccd07ee9"
      },
      "execution_count": 102,
      "outputs": [
        {
          "output_type": "stream",
          "name": "stdout",
          "text": [
            "accuracy= 0.9132481506388702\n"
          ]
        }
      ]
    },
    {
      "cell_type": "code",
      "source": [
        "from sklearn.feature_extraction.text import TfidfVectorizer\n",
        "tfidvec = TfidfVectorizer(min_df = 2,\n",
        "                          max_df = 0.95,\n",
        "                          norm = 'l2',\n",
        "                          stop_words = 'english')\n",
        "tfidvec_train = tfidvec.fit_transform(train_df['Cleaned_Text'])\n",
        "from sklearn.decomposition import NMF\n",
        "import itertools\n",
        "from sklearn.metrics import accuracy_score\n",
        "\n",
        "#create model\n",
        "nmf_model2 = NMF(n_components=5,\n",
        "                init='nndsvda',\n",
        "                solver = 'cd',\n",
        "                beta_loss = 'frobenius',\n",
        "                l1_ratio = 0.5,\n",
        "                random_state = 101)\n",
        "nmf_model2.fit(tfidvec_train)\n",
        "\n",
        "#view results\n",
        "yhat_train = predict(nmf_model2.transform(tfidvec_train))\n",
        "label_order, accuracy = label_permute(train_df, yhat_train )\n",
        "print('accuracy=', accuracy)  ## 0.9193006052454606"
      ],
      "metadata": {
        "colab": {
          "base_uri": "https://localhost:8080/"
        },
        "id": "JIJj82hdYytX",
        "outputId": "edadbf1b-c59d-43d3-8911-1f963e5e714c"
      },
      "execution_count": 114,
      "outputs": [
        {
          "output_type": "stream",
          "name": "stdout",
          "text": [
            "accuracy= 0.9193006052454606\n"
          ]
        }
      ]
    },
    {
      "cell_type": "markdown",
      "source": [
        "Changing the ***beta_loss*** value to ***frobenius*** doesn't increase the value even get lower accuracy score.\n",
        "\n",
        "Changin teh solver value to ***cd*** also doesn't increase the accuracy score. ***Coordinate Descent (CD)*** work only with ***frobenius***"
      ],
      "metadata": {
        "id": "tlSp-sF1Xo-R"
      }
    },
    {
      "cell_type": "code",
      "source": [
        "from sklearn.feature_extraction.text import TfidfVectorizer\n",
        "tfidvec = TfidfVectorizer(min_df = 2,\n",
        "                          max_df = 0.95,\n",
        "                          norm = 'l2',\n",
        "                          stop_words = 'english')\n",
        "tfidvec_train = tfidvec.fit_transform(train_df['Cleaned_Text'])\n",
        "from sklearn.decomposition import NMF\n",
        "import itertools\n",
        "from sklearn.metrics import accuracy_score\n",
        "\n",
        "#create model\n",
        "nmf_model2 = NMF(n_components=5,\n",
        "                init='nndsvda',\n",
        "                solver = 'mu',\n",
        "                beta_loss = 'kullback-leibler',\n",
        "                l1_ratio = 0,\n",
        "                random_state = 101)\n",
        "nmf_model2.fit(tfidvec_train)\n",
        "\n",
        "#view results\n",
        "yhat_train = predict(nmf_model2.transform(tfidvec_train))\n",
        "label_order, accuracy = label_permute(train_df, yhat_train )\n",
        "print('accuracy=', accuracy) ## 0.948890383322125"
      ],
      "metadata": {
        "colab": {
          "base_uri": "https://localhost:8080/"
        },
        "id": "hohXqO8rX3C2",
        "outputId": "431bb3c3-e6d8-4825-e6c0-deda4dd66339"
      },
      "execution_count": 109,
      "outputs": [
        {
          "output_type": "stream",
          "name": "stdout",
          "text": [
            "accuracy= 0.948890383322125\n"
          ]
        }
      ]
    },
    {
      "cell_type": "code",
      "source": [
        "from sklearn.feature_extraction.text import TfidfVectorizer\n",
        "tfidvec = TfidfVectorizer(min_df = 2,\n",
        "                          max_df = 0.95,\n",
        "                          norm = 'l2',\n",
        "                          stop_words = 'english')\n",
        "tfidvec_train = tfidvec.fit_transform(train_df['Cleaned_Text'])\n",
        "from sklearn.decomposition import NMF\n",
        "import itertools\n",
        "from sklearn.metrics import accuracy_score\n",
        "\n",
        "#create model\n",
        "nmf_model2 = NMF(n_components=5,\n",
        "                init='nndsvda',\n",
        "                solver = 'mu',\n",
        "                beta_loss = 'kullback-leibler',\n",
        "                l1_ratio = 1,\n",
        "                random_state = 101)\n",
        "nmf_model2.fit(tfidvec_train)\n",
        "\n",
        "#view results\n",
        "yhat_train = predict(nmf_model2.transform(tfidvec_train))\n",
        "label_order, accuracy = label_permute(train_df, yhat_train )\n",
        "print('accuracy=', accuracy) ## 0.948890383322125"
      ],
      "metadata": {
        "colab": {
          "base_uri": "https://localhost:8080/"
        },
        "id": "5INeXe0sX875",
        "outputId": "a897b629-8e2c-4d88-9245-2e141d71ed63"
      },
      "execution_count": 110,
      "outputs": [
        {
          "output_type": "stream",
          "name": "stdout",
          "text": [
            "accuracy= 0.948890383322125\n"
          ]
        }
      ]
    },
    {
      "cell_type": "markdown",
      "source": [
        "Tuning the ***l1_ratio*** doesn't change the accuracy score."
      ],
      "metadata": {
        "id": "Qk8LiRVZYVdX"
      }
    },
    {
      "cell_type": "code",
      "source": [
        "from sklearn.feature_extraction.text import TfidfVectorizer\n",
        "tfidvec = TfidfVectorizer(min_df = 2,\n",
        "                          max_df = 0.95,\n",
        "                          norm = 'l2',\n",
        "                          stop_words = 'english')\n",
        "tfidvec_train = tfidvec.fit_transform(train_df['Cleaned_Text'])\n",
        "from sklearn.decomposition import NMF\n",
        "import itertools\n",
        "from sklearn.metrics import accuracy_score\n",
        "\n",
        "#create model\n",
        "nmf_model2 = NMF(n_components=5,\n",
        "                init='nndsvd',\n",
        "                solver = 'mu',\n",
        "                beta_loss = 'kullback-leibler',\n",
        "                l1_ratio = 1,\n",
        "                random_state = 101)\n",
        "nmf_model2.fit(tfidvec_train)\n",
        "\n",
        "#view results\n",
        "yhat_train = predict(nmf_model2.transform(tfidvec_train))\n",
        "label_order, accuracy = label_permute(train_df, yhat_train )\n",
        "print('accuracy=', accuracy) ## 0.9266980497646268"
      ],
      "metadata": {
        "colab": {
          "base_uri": "https://localhost:8080/"
        },
        "id": "pgJuNqMxYU0J",
        "outputId": "88545103-6502-446c-8dba-dca69134c374"
      },
      "execution_count": 118,
      "outputs": [
        {
          "output_type": "stream",
          "name": "stderr",
          "text": [
            "/usr/local/lib/python3.10/dist-packages/sklearn/decomposition/_nmf.py:1524: UserWarning: The multiplicative update ('mu') solver cannot update zeros present in the initialization, and so leads to poorer results when used jointly with init='nndsvd'. You may try init='nndsvda' or init='nndsvdar' instead.\n",
            "  warnings.warn(\n"
          ]
        },
        {
          "output_type": "stream",
          "name": "stdout",
          "text": [
            "accuracy= 0.9266980497646268\n"
          ]
        }
      ]
    },
    {
      "cell_type": "code",
      "source": [
        "from sklearn.feature_extraction.text import TfidfVectorizer\n",
        "tfidvec = TfidfVectorizer(min_df = 2,\n",
        "                          max_df = 0.95,\n",
        "                          norm = 'l2',\n",
        "                          stop_words = 'english')\n",
        "tfidvec_train = tfidvec.fit_transform(train_df['Cleaned_Text'])\n",
        "from sklearn.decomposition import NMF\n",
        "import itertools\n",
        "from sklearn.metrics import accuracy_score\n",
        "\n",
        "#create model\n",
        "nmf_model2 = NMF(n_components=5,\n",
        "                init='random',\n",
        "                solver = 'mu',\n",
        "                beta_loss = 'kullback-leibler',\n",
        "                l1_ratio = 1,\n",
        "                random_state = 101)\n",
        "nmf_model2.fit(tfidvec_train)\n",
        "\n",
        "#view results\n",
        "yhat_train = predict(nmf_model2.transform(tfidvec_train))\n",
        "label_order, accuracy = label_permute(train_df, yhat_train )\n",
        "print('accuracy=', accuracy) ## 0.8957632817753867"
      ],
      "metadata": {
        "colab": {
          "base_uri": "https://localhost:8080/"
        },
        "id": "_YonEu2fZ4mU",
        "outputId": "2af241d4-338f-4760-c827-e06ba8512451"
      },
      "execution_count": 117,
      "outputs": [
        {
          "output_type": "stream",
          "name": "stdout",
          "text": [
            "accuracy= 0.8957632817753867\n"
          ]
        }
      ]
    },
    {
      "cell_type": "markdown",
      "source": [
        "Tunning the value of ***init*** to ***random*** or ***nndsvd*** doesn't greater more than ***nndsvda***."
      ],
      "metadata": {
        "id": "I4rNAc6NZ7MA"
      }
    },
    {
      "cell_type": "code",
      "source": [
        "from sklearn.feature_extraction.text import TfidfVectorizer\n",
        "tfidvec = TfidfVectorizer(min_df = 1,\n",
        "                          max_df = 0.95,\n",
        "                          norm = 'l2',\n",
        "                          stop_words = 'english')\n",
        "tfidvec_train = tfidvec.fit_transform(train_df['Cleaned_Text'])\n",
        "\n",
        "from sklearn.decomposition import NMF\n",
        "import itertools\n",
        "from sklearn.metrics import accuracy_score\n",
        "\n",
        "#create model\n",
        "nmf_model = NMF(n_components=5,\n",
        "                init='nndsvda',\n",
        "                solver = 'mu',\n",
        "                beta_loss = 'kullback-leibler',\n",
        "                l1_ratio = 0.5,\n",
        "                random_state = 101)\n",
        "nmf_model.fit(tfidvec_train)\n",
        "\n",
        "#view results\n",
        "yhat_train = predict(nmf_model.transform(tfidvec_train))\n",
        "label_order, accuracy = label_permute(train_df, yhat_train )\n",
        "print('accuracy=', accuracy) ## 0.9354404841963685"
      ],
      "metadata": {
        "colab": {
          "base_uri": "https://localhost:8080/"
        },
        "id": "RH6X6HWldL8B",
        "outputId": "49a4fb5f-59d4-4f83-aacc-0d05e652402b"
      },
      "execution_count": 119,
      "outputs": [
        {
          "output_type": "stream",
          "name": "stdout",
          "text": [
            "accuracy= 0.9354404841963685\n"
          ]
        }
      ]
    },
    {
      "cell_type": "code",
      "source": [
        "from sklearn.feature_extraction.text import TfidfVectorizer\n",
        "tfidvec = TfidfVectorizer(min_df = 3,\n",
        "                          max_df = 0.95,\n",
        "                          norm = 'l2',\n",
        "                          stop_words = 'english')\n",
        "tfidvec_train = tfidvec.fit_transform(train_df['Cleaned_Text'])\n",
        "\n",
        "from sklearn.decomposition import NMF\n",
        "import itertools\n",
        "from sklearn.metrics import accuracy_score\n",
        "\n",
        "#create model\n",
        "nmf_model = NMF(n_components=5,\n",
        "                init='nndsvda',\n",
        "                solver = 'mu',\n",
        "                beta_loss = 'kullback-leibler',\n",
        "                l1_ratio = 0.5,\n",
        "                random_state = 101)\n",
        "nmf_model.fit(tfidvec_train)\n",
        "\n",
        "#view results\n",
        "yhat_train = predict(nmf_model.transform(tfidvec_train))\n",
        "label_order, accuracy = label_permute(train_df, yhat_train )\n",
        "print('accuracy=', accuracy)  ## 0.9475453934095495"
      ],
      "metadata": {
        "colab": {
          "base_uri": "https://localhost:8080/"
        },
        "id": "JN0EDBUwdQ9w",
        "outputId": "d06e9517-4520-4ddf-c199-e7c78f8276ad"
      },
      "execution_count": 120,
      "outputs": [
        {
          "output_type": "stream",
          "name": "stdout",
          "text": [
            "accuracy= 0.9475453934095495\n"
          ]
        }
      ]
    },
    {
      "cell_type": "markdown",
      "source": [
        "Tuning the min_df (with 1 and 5 ) from TfidfVectorizer doesn't increase more then previous select value 2. Lower value much better.\n",
        "\n"
      ],
      "metadata": {
        "id": "AT-L6SdgdVk3"
      }
    },
    {
      "cell_type": "code",
      "source": [
        "from sklearn.feature_extraction.text import TfidfVectorizer\n",
        "tfidvec = TfidfVectorizer(min_df = 2,\n",
        "                          max_df = 0.85,\n",
        "                          norm = 'l2',\n",
        "                          stop_words = 'english')\n",
        "tfidvec_train = tfidvec.fit_transform(train_df['Cleaned_Text'])\n",
        "\n",
        "from sklearn.decomposition import NMF\n",
        "import itertools\n",
        "from sklearn.metrics import accuracy_score\n",
        "\n",
        "#create model\n",
        "nmf_model = NMF(n_components=5,\n",
        "                init='nndsvda',\n",
        "                solver = 'mu',\n",
        "                beta_loss = 'kullback-leibler',\n",
        "                l1_ratio = 0.5,\n",
        "                random_state = 101)\n",
        "nmf_model.fit(tfidvec_train)\n",
        "\n",
        "#view results\n",
        "yhat_train = predict(nmf_model.transform(tfidvec_train))\n",
        "label_order, accuracy = label_permute(train_df, yhat_train )\n",
        "print('accuracy=', accuracy)  ## 0.9482178883658372"
      ],
      "metadata": {
        "colab": {
          "base_uri": "https://localhost:8080/"
        },
        "id": "qGm3XpnLd6-N",
        "outputId": "b46c0ae5-1120-428a-eb0d-fe5e3013d693"
      },
      "execution_count": 121,
      "outputs": [
        {
          "output_type": "stream",
          "name": "stdout",
          "text": [
            "accuracy= 0.9482178883658372\n"
          ]
        }
      ]
    },
    {
      "cell_type": "code",
      "source": [
        "from sklearn.feature_extraction.text import TfidfVectorizer\n",
        "tfidvec = TfidfVectorizer(min_df = 2,\n",
        "                          max_df = 0.99,\n",
        "                          norm = 'l2',\n",
        "                          stop_words = 'english')\n",
        "tfidvec_train = tfidvec.fit_transform(train_df['Cleaned_Text'])\n",
        "\n",
        "from sklearn.decomposition import NMF\n",
        "import itertools\n",
        "from sklearn.metrics import accuracy_score\n",
        "\n",
        "#create model\n",
        "nmf_model = NMF(n_components=5,\n",
        "                init='nndsvda',\n",
        "                solver = 'mu',\n",
        "                beta_loss = 'kullback-leibler',\n",
        "                l1_ratio = 0.5,\n",
        "                random_state = 101)\n",
        "nmf_model.fit(tfidvec_train)\n",
        "\n",
        "#view results\n",
        "yhat_train = predict(nmf_model.transform(tfidvec_train))\n",
        "label_order, accuracy = label_permute(train_df, yhat_train )\n",
        "print('accuracy=', accuracy)  ## 0.948890383322125"
      ],
      "metadata": {
        "colab": {
          "base_uri": "https://localhost:8080/"
        },
        "id": "yz3JvSNaeEcK",
        "outputId": "7abb58e3-34b4-49aa-9cd9-830cbbbe49d1"
      },
      "execution_count": 124,
      "outputs": [
        {
          "output_type": "stream",
          "name": "stdout",
          "text": [
            "accuracy= 0.948890383322125\n"
          ]
        }
      ]
    },
    {
      "cell_type": "markdown",
      "source": [
        "Tunning the values of ***max_df*** from TfidfVectorizer doesn't increse the accuracy score. But higher the max_df increase the accuracy score."
      ],
      "metadata": {
        "id": "hiCsrYGNeHDV"
      }
    },
    {
      "cell_type": "code",
      "source": [
        "from sklearn.feature_extraction.text import TfidfVectorizer\n",
        "tfidvec = TfidfVectorizer(min_df = 2,\n",
        "                          max_df = 0.90,\n",
        "                          norm = 'l1',\n",
        "                          stop_words = 'english')\n",
        "tfidvec_train = tfidvec.fit_transform(train_df['Cleaned_Text'])\n",
        "\n",
        "from sklearn.decomposition import NMF\n",
        "import itertools\n",
        "from sklearn.metrics import accuracy_score\n",
        "\n",
        "#create model\n",
        "nmf_model = NMF(n_components=5,\n",
        "                init='nndsvda',\n",
        "                solver = 'mu',\n",
        "                beta_loss = 'kullback-leibler',\n",
        "                l1_ratio = 0.5,\n",
        "                random_state = 101)\n",
        "nmf_model.fit(tfidvec_train)\n",
        "\n",
        "#view results\n",
        "yhat_train = predict(nmf_model.transform(tfidvec_train))\n",
        "label_order, accuracy = label_permute(train_df, yhat_train )\n",
        "print('accuracy=', accuracy) ## 0.933422999327505"
      ],
      "metadata": {
        "colab": {
          "base_uri": "https://localhost:8080/"
        },
        "id": "GdsWl1NceGdv",
        "outputId": "b56a14c9-a1b9-4ed0-9280-635425d0c4cc"
      },
      "execution_count": 125,
      "outputs": [
        {
          "output_type": "stream",
          "name": "stdout",
          "text": [
            "accuracy= 0.933422999327505\n"
          ]
        }
      ]
    },
    {
      "cell_type": "markdown",
      "source": [
        "Select the ***norm*** value to ***l1*** would decrease greatly then selecting to ***l2***."
      ],
      "metadata": {
        "id": "H8tow8EhfV3f"
      }
    },
    {
      "cell_type": "markdown",
      "source": [
        "### Final Model\n",
        "\n",
        "```\n",
        "# This is formatted as code\n",
        "```\n",
        "\n"
      ],
      "metadata": {
        "id": "0VQyMjf4f592"
      }
    },
    {
      "cell_type": "code",
      "source": [
        "from sklearn.feature_extraction.text import TfidfVectorizer\n",
        "tfidvec = TfidfVectorizer(min_df = 2,\n",
        "                          max_df = 0.95,\n",
        "                          norm = 'l2',\n",
        "                          stop_words = 'english')\n",
        "tfidvec_train = tfidvec.fit_transform(train_df['Cleaned_Text'])\n",
        "\n",
        "from sklearn.decomposition import NMF\n",
        "import itertools\n",
        "from sklearn.metrics import accuracy_score\n",
        "\n",
        "#create model\n",
        "nmf_model = NMF(n_components=5,\n",
        "                init='nndsvda',\n",
        "                solver = 'mu',\n",
        "                beta_loss = 'kullback-leibler',\n",
        "                l1_ratio = 0.5,\n",
        "                random_state = 101)\n",
        "nmf_model.fit(tfidvec_train)\n",
        "\n",
        "#view results\n",
        "yhat_train = predict(nmf_model.transform(tfidvec_train))\n",
        "label_order, accuracy = label_permute(train_df, yhat_train )\n",
        "print('accuracy=', accuracy)"
      ],
      "metadata": {
        "colab": {
          "base_uri": "https://localhost:8080/"
        },
        "id": "R40-JkTJf8ek",
        "outputId": "8ae74fea-28dc-42c9-fcc0-2441830ae455"
      },
      "execution_count": 127,
      "outputs": [
        {
          "output_type": "stream",
          "name": "stdout",
          "text": [
            "accuracy= 0.948890383322125\n"
          ]
        }
      ]
    },
    {
      "cell_type": "code",
      "source": [
        "label_order"
      ],
      "metadata": {
        "colab": {
          "base_uri": "https://localhost:8080/"
        },
        "id": "vzj-zlfqAVFA",
        "outputId": "5005a49f-8ab7-4315-e3dc-cafcf17f726f"
      },
      "execution_count": 97,
      "outputs": [
        {
          "output_type": "execute_result",
          "data": {
            "text/plain": [
              "(4, 2, 1, 0, 3)"
            ]
          },
          "metadata": {},
          "execution_count": 97
        }
      ]
    },
    {
      "cell_type": "code",
      "source": [
        "#show best labels for the trained model\n",
        "label_dict = {4:'business', 2:'tech', 1:'politics', 0:'sport', 3:'entertainment'}\n",
        "for i in range(5):\n",
        "    print(f'{label_order[i]}:  {label_dict[label_order[i]]}')"
      ],
      "metadata": {
        "colab": {
          "base_uri": "https://localhost:8080/"
        },
        "id": "Bsh1nrIvAdnv",
        "outputId": "7222ef93-e87f-43eb-f40e-c7ecc857f607"
      },
      "execution_count": 98,
      "outputs": [
        {
          "output_type": "stream",
          "name": "stdout",
          "text": [
            "4:  business\n",
            "2:  tech\n",
            "1:  politics\n",
            "0:  sport\n",
            "3:  entertainment\n"
          ]
        }
      ]
    },
    {
      "cell_type": "code",
      "source": [
        "trainData['Category'].unique()"
      ],
      "metadata": {
        "colab": {
          "base_uri": "https://localhost:8080/"
        },
        "id": "zZrmEQ556fvq",
        "outputId": "dcddb94b-eacf-48fc-bf9f-19c1411c0cc3"
      },
      "execution_count": 95,
      "outputs": [
        {
          "output_type": "execute_result",
          "data": {
            "text/plain": [
              "array(['business', 'tech', 'politics', 'sport', 'entertainment'],\n",
              "      dtype=object)"
            ]
          },
          "metadata": {},
          "execution_count": 95
        }
      ]
    },
    {
      "cell_type": "markdown",
      "source": [
        "Let's test on TestDataset"
      ],
      "metadata": {
        "id": "E19cU7R85Xkp"
      }
    },
    {
      "cell_type": "code",
      "source": [
        "testData['clean_text'] = testData['Text'].apply(clean_text)\n",
        "tfidvec_test = tfidvec.transform(testData['clean_text'])\n",
        "yhat_test = predict(nmf_model.transform(tfidvec_test))"
      ],
      "metadata": {
        "id": "jr8A3JoH4ypP"
      },
      "execution_count": 99,
      "outputs": []
    },
    {
      "cell_type": "markdown",
      "source": [
        "Create a submission dataframe"
      ],
      "metadata": {
        "id": "M7LA7UL96GGM"
      }
    },
    {
      "cell_type": "code",
      "source": [
        "test_predictions = pd.DataFrame(columns=['ArticleId', 'Category', 'yhat'])\n",
        "test_predictions['ArticleId'] = testData['ArticleId']\n",
        "test_predictions['yhat'] = yhat_test\n",
        "test_predictions['Category'] = test_predictions['yhat'].apply(lambda i: label_dict[i])\n",
        "\n",
        "#delete columns unneeded for submission\n",
        "test_predictions = test_predictions.drop('yhat', 1)\n",
        "print(test_predictions.head(15))"
      ],
      "metadata": {
        "colab": {
          "base_uri": "https://localhost:8080/"
        },
        "id": "1FTGNk7R6Egm",
        "outputId": "bfc97066-2e13-4ee6-8086-f2936cb1756e"
      },
      "execution_count": 100,
      "outputs": [
        {
          "output_type": "stream",
          "name": "stdout",
          "text": [
            "    ArticleId       Category\n",
            "0        1018          sport\n",
            "1        1319           tech\n",
            "2        1138          sport\n",
            "3         459       business\n",
            "4        1020          sport\n",
            "5          51          sport\n",
            "6        2025       politics\n",
            "7        1479       politics\n",
            "8          27  entertainment\n",
            "9         397       business\n",
            "10       1644       business\n",
            "11        263           tech\n",
            "12        765       politics\n",
            "13       2134           tech\n",
            "14        297  entertainment\n"
          ]
        },
        {
          "output_type": "stream",
          "name": "stderr",
          "text": [
            "<ipython-input-100-215c8120162e>:7: FutureWarning: In a future version of pandas all arguments of DataFrame.drop except for the argument 'labels' will be keyword-only.\n",
            "  test_predictions = test_predictions.drop('yhat', 1)\n"
          ]
        }
      ]
    },
    {
      "cell_type": "code",
      "source": [
        "try:\n",
        "    test_predictions.to_csv('submission.csv', index=False)\n",
        "except:\n",
        "    pass"
      ],
      "metadata": {
        "id": "anP3ZZ285lfW"
      },
      "execution_count": 101,
      "outputs": []
    },
    {
      "cell_type": "code",
      "source": [
        "!kaggle competitions submit -c learn-ai-bbc -f submission.csv -m \"Unsupervised\""
      ],
      "metadata": {
        "colab": {
          "base_uri": "https://localhost:8080/"
        },
        "id": "nvW3tPZm_QBM",
        "outputId": "aabc35f9-7c08-4803-d80e-ee9f02019fcd"
      },
      "execution_count": 102,
      "outputs": [
        {
          "output_type": "stream",
          "name": "stdout",
          "text": [
            "Warning: Looks like you're using an outdated API Version, please consider updating (server 1.6.7 / client 1.5.16)\n",
            "100% 9.17k/9.17k [00:00<00:00, 11.0kB/s]\n",
            "Successfully submitted to BBC News Classification"
          ]
        }
      ]
    },
    {
      "cell_type": "code",
      "source": [
        "!cp -r /usr/share/pixmaps/ ./Kaggle_Completion_Score/"
      ],
      "metadata": {
        "id": "xzFfFXUZhuYD"
      },
      "execution_count": 145,
      "outputs": []
    },
    {
      "cell_type": "code",
      "source": [
        "!rm -r ./Kaggle_Completion_Score/pixmaps/"
      ],
      "metadata": {
        "id": "OuKgql1jiSfd"
      },
      "execution_count": 149,
      "outputs": []
    },
    {
      "cell_type": "code",
      "source": [
        "from PIL import Image\n",
        "unsupervised_img=Image.open('./Kaggle_Completion_Score/Unsupervised_Submission_Score.png',)\n",
        "unsupervised_img"
      ],
      "metadata": {
        "colab": {
          "base_uri": "https://localhost:8080/",
          "height": 98
        },
        "id": "BfFP68dah4OX",
        "outputId": "5d751884-3de2-42f2-f5db-7c9fa401a0ee"
      },
      "execution_count": 161,
      "outputs": [
        {
          "output_type": "execute_result",
          "data": {
            "text/plain": [
              "<PIL.PngImagePlugin.PngImageFile image mode=RGBA size=1466x110>"
            ],
            "image/png": "[encoded data removed]"
          },
          "metadata": {},
          "execution_count": 161
        }
      ]
    },
    {
      "cell_type": "markdown",
      "source": [
        "## Supervised Model\n",
        "\n",
        "Let's do model comparison with supervised model like K-Means and check is there any improve in model."
      ],
      "metadata": {
        "id": "0BeCdCJqPHyp"
      }
    },
    {
      "cell_type": "markdown",
      "source": [
        "### K-Mean\n",
        "\n",
        "K-Means is a popular unsupervised machine learning algorithm used for clustering data into groups based on similarity. The algorithm works by partitioning the data into K clusters, where each data point belongs to the cluster with the nearest mean (centroid). Here's how K-Means works:\n",
        "\n",
        "K-Means aims to minimize the within-cluster variance, also known as the inertia or sum of squared distances from each data point to its assigned centroid. The algorithm may converge to a local minimum, and the final clustering depends on the initial random centroids.\n",
        "\n",
        "K-Means is widely used for various applications, including customer segmentation, image compression, document clustering, and anomaly detection. It is computationally efficient and scales well to large datasets, making it a popular choice for clustering tasks. However, it may struggle with non-linearly separable data or clusters of different shapes and sizes. Alternative clustering algorithms such as DBSCAN or Gaussian Mixture Models may be more suitable for such cases."
      ],
      "metadata": {
        "id": "GhnlO6XfNBJt"
      }
    },
    {
      "cell_type": "code",
      "source": [
        "train = pd.read_csv(trainDataPath)\n",
        "test = pd.read_csv(testDataPath)"
      ],
      "metadata": {
        "id": "GykqueKKPJ7E"
      },
      "execution_count": 353,
      "outputs": []
    },
    {
      "cell_type": "code",
      "source": [
        "import re\n",
        "def clean_text2(dataframe, text_col):\n",
        "    '''\n",
        "    A helper function which takes a dataframe\n",
        "    and removes punction and stopwords.\n",
        "    '''\n",
        "    #remove all punctuation\n",
        "    dataframe['no_punct'] = dataframe[text_col].apply(lambda row: re.sub(r'[^\\w\\s]+', '', row))\n",
        "\n",
        "    #remove numbers\n",
        "    dataframe['no_punct_num'] = dataframe['no_punct'].apply(lambda row: re.sub(r'[0-9]+', '', row))\n",
        "\n",
        "    #remove stopwords\n",
        "    stop_words = stopwords.words('english')\n",
        "    dataframe['no_stopwords'] = dataframe['no_punct_num'].apply(lambda x: ' '.join([word for word in x.split() if word not in (stop_words)]))\n",
        "\n",
        "    #remove extra spaces\n",
        "    dataframe['clean_text'] = dataframe['no_stopwords'].apply(lambda x: re.sub(' +', ' ', x))\n",
        "    return"
      ],
      "metadata": {
        "id": "mtNkT8f7fEhd"
      },
      "execution_count": 354,
      "outputs": []
    },
    {
      "cell_type": "code",
      "source": [
        "from sklearn.cluster import KMeans\n",
        "clean_text2(train,'Text')\n",
        "# train['clean_text'] = train['Text'].apply(clean_text)\n",
        "# test['clean_text'] = test['Text'].apply(clean_text)\n",
        "\n",
        "#split data into X and y\n",
        "y_train = train['Category'].values\n",
        "X_train = train['clean_text'].values\n",
        "\n"
      ],
      "metadata": {
        "id": "4Y3svkXzPeG_"
      },
      "execution_count": 355,
      "outputs": []
    },
    {
      "cell_type": "code",
      "source": [
        "#create new vectorizer for supervised learning model\n",
        "tfidfvec_supervised = TfidfVectorizer(min_df = 2,\n",
        "                          max_df = 0.95,\n",
        "                          norm = 'l2',\n",
        "                          stop_words = 'english')\n",
        "tfSuper_train = tfidfvec_supervised.fit_transform(X_train)\n",
        "\n",
        "#create KMeans Model and train\n",
        "kmeans = KMeans(n_clusters = 5,\n",
        "                init = 'k-means++',\n",
        "                algorithm = 'full',\n",
        "                random_state = 101)\n",
        "yhat_train_super = kmeans.fit_predict(tfSuper_train)\n",
        "\n",
        "#get accuracy\n",
        "y_train_df = pd.DataFrame(y_train, columns=['Category'])\n",
        "label_order, accuracy = label_permute(y_train_df, yhat_train_super)\n",
        "print('accuracy=', accuracy)\n",
        "print(label_order, '\\n')\n",
        "\n",
        "#show label order\n",
        "label_dict = {3:'business', 1:'tech', 4:'politics', 2:'sport', 0:'entertainment'}\n",
        "for i in range(5):\n",
        "    print(f'{label_order[i]}:  {label_dict[label_order[i]]}')"
      ],
      "metadata": {
        "colab": {
          "base_uri": "https://localhost:8080/"
        },
        "id": "mgTj9IA3Xhcs",
        "outputId": "fd5ae154-9663-4732-a5c3-b6d283c81741"
      },
      "execution_count": 356,
      "outputs": [
        {
          "output_type": "stream",
          "name": "stderr",
          "text": [
            "/usr/local/lib/python3.10/dist-packages/sklearn/cluster/_kmeans.py:870: FutureWarning: The default value of `n_init` will change from 10 to 'auto' in 1.4. Set the value of `n_init` explicitly to suppress the warning\n",
            "  warnings.warn(\n",
            "/usr/local/lib/python3.10/dist-packages/sklearn/cluster/_kmeans.py:1366: FutureWarning: algorithm='full' is deprecated, it will be removed in 1.3. Using 'lloyd' instead.\n",
            "  warnings.warn(\n"
          ]
        },
        {
          "output_type": "stream",
          "name": "stdout",
          "text": [
            "accuracy= 0.9369127516778524\n",
            "(3, 1, 0, 2, 4) \n",
            "\n",
            "3:  business\n",
            "1:  tech\n",
            "0:  entertainment\n",
            "2:  sport\n",
            "4:  politics\n"
          ]
        }
      ]
    },
    {
      "cell_type": "code",
      "source": [
        "np.unique(yhat_train_super)"
      ],
      "metadata": {
        "colab": {
          "base_uri": "https://localhost:8080/"
        },
        "id": "hcN0Hnx-W-1a",
        "outputId": "95db701d-a7a3-49e6-8598-9fff6f69e33d"
      },
      "execution_count": 357,
      "outputs": [
        {
          "output_type": "execute_result",
          "data": {
            "text/plain": [
              "array([0, 1, 2, 3, 4], dtype=int32)"
            ]
          },
          "metadata": {},
          "execution_count": 357
        }
      ]
    },
    {
      "cell_type": "code",
      "source": [
        "y_train"
      ],
      "metadata": {
        "colab": {
          "base_uri": "https://localhost:8080/"
        },
        "id": "DvhVcxVwXU-q",
        "outputId": "dcbd4031-9c7e-45ad-962f-5f8f2dba08a1"
      },
      "execution_count": 358,
      "outputs": [
        {
          "output_type": "execute_result",
          "data": {
            "text/plain": [
              "array(['business', 'business', 'business', ..., 'business', 'tech',\n",
              "       'tech'], dtype=object)"
            ]
          },
          "metadata": {},
          "execution_count": 358
        }
      ]
    },
    {
      "cell_type": "markdown",
      "source": [
        "\n",
        "\n",
        "Now we will test the model on the test set. Again, we need to repeat the same steps to clean the data like we did in the training set.\n"
      ],
      "metadata": {
        "id": "cHjxYzJEPqeX"
      }
    },
    {
      "cell_type": "code",
      "source": [
        "clean_text2(test,'Text')\n",
        "X_test = test['clean_text'].values\n",
        "\n",
        "#create vectorizer (do not fit it!)\n",
        "tfSuper_test = tfidfvec_supervised.transform(X_test)\n",
        "yhat_test = kmeans.predict(tfSuper_test)\n",
        "\n"
      ],
      "metadata": {
        "id": "fM4u85xrPtLf"
      },
      "execution_count": 359,
      "outputs": []
    },
    {
      "cell_type": "code",
      "source": [
        "#create a submission dataframe\n",
        "test_predictions = pd.DataFrame(columns=['ArticleId', 'Category', 'yhat'])\n",
        "test_predictions['ArticleId'] = test['ArticleId']\n",
        "test_predictions['yhat'] = yhat_test\n",
        "test_predictions['Category'] = test_predictions['yhat'].apply(lambda i: label_dict[i])\n",
        "\n",
        "#delete columns unneeded for submission\n",
        "test_predictions = test_predictions.drop('yhat', 1)\n",
        "print(test_predictions.head(2))"
      ],
      "metadata": {
        "colab": {
          "base_uri": "https://localhost:8080/"
        },
        "id": "gVFoVC6iWI1p",
        "outputId": "e1654a38-ad7a-46c8-baa5-4a45f735b2d0"
      },
      "execution_count": 360,
      "outputs": [
        {
          "output_type": "stream",
          "name": "stdout",
          "text": [
            "   ArticleId Category\n",
            "0       1018    sport\n",
            "1       1319     tech\n"
          ]
        },
        {
          "output_type": "stream",
          "name": "stderr",
          "text": [
            "<ipython-input-360-fddea4b28e10>:8: FutureWarning: In a future version of pandas all arguments of DataFrame.drop except for the argument 'labels' will be keyword-only.\n",
            "  test_predictions = test_predictions.drop('yhat', 1)\n"
          ]
        }
      ]
    },
    {
      "cell_type": "code",
      "source": [
        "#save and submit test dataframe\n",
        "try:\n",
        "    test_predictions.to_csv('supervised_submission.csv', index=False)\n",
        "except:\n",
        "    pass\n",
        "\n",
        "# #public and private score was 0.62993"
      ],
      "metadata": {
        "id": "Akxbt1HhQQnY"
      },
      "execution_count": 361,
      "outputs": []
    },
    {
      "cell_type": "code",
      "source": [
        "!kaggle competitions submit -c learn-ai-bbc -f supervised_submission.csv -m \"K-mean model\""
      ],
      "metadata": {
        "colab": {
          "base_uri": "https://localhost:8080/"
        },
        "id": "aadD6m1eQXmf",
        "outputId": "c9aacb22-a131-4573-ff89-a2b01e82e0b6"
      },
      "execution_count": 362,
      "outputs": [
        {
          "output_type": "stream",
          "name": "stdout",
          "text": [
            "Warning: Your Kaggle API key is readable by other users on this system! To fix this, you can run 'chmod 600 /root/.kaggle/kaggle.json'\n",
            "Warning: Looks like you're using an outdated API Version, please consider updating (server 1.6.7 / client 1.5.16)\n",
            "100% 9.24k/9.24k [00:00<00:00, 34.4kB/s]\n",
            "Successfully submitted to BBC News Classification"
          ]
        }
      ]
    },
    {
      "cell_type": "code",
      "source": [
        "supervised_img=Image.open('./Kaggle_Completion_Score/Supervised_Submission_Score.png',)\n",
        "supervised_img"
      ],
      "metadata": {
        "colab": {
          "base_uri": "https://localhost:8080/",
          "height": 147
        },
        "id": "JUnsmkAEjCg5",
        "outputId": "26b7b20b-b53c-48e8-fff2-821f7bed17ff"
      },
      "execution_count": 163,
      "outputs": [
        {
          "output_type": "execute_result",
          "data": {
            "text/plain": [
              "<PIL.PngImagePlugin.PngImageFile image mode=RGBA size=1466x110>"
            ],
            "image/png": "[encoded data removed]"
          },
          "metadata": {},
          "execution_count": 163
        }
      ]
    },
    {
      "cell_type": "markdown",
      "source": [
        "Train Accuracy is 0.9369127516778524 and test accuracy is 0.62993 so it is overfitting."
      ],
      "metadata": {
        "id": "2ew-iqVPqj1l"
      }
    },
    {
      "cell_type": "code",
      "source": [
        "train = pd.read_csv(trainDataPath)\n",
        "test = pd.read_csv(testDataPath)\n",
        "\n",
        "import re\n",
        "from sklearn.cluster import KMeans\n",
        "clean_text2(train,'Text')\n",
        "# train['clean_text'] = train['Text'].apply(clean_text)\n",
        "# test['clean_text'] = test['Text'].apply(clean_text)\n",
        "\n",
        "#split data into X and y\n",
        "y_train = train['Category'].values[:-298]\n",
        "X_train = train['clean_text'].values[:-298]\n",
        "\n",
        "\n",
        "#create new vectorizer for supervised learning model\n",
        "tfidfvec_supervised = TfidfVectorizer(min_df = 2,\n",
        "                          max_df = 0.95,\n",
        "                          norm = 'l2',\n",
        "                          stop_words = 'english')\n",
        "tfSuper_train = tfidfvec_supervised.fit_transform(X_train)\n",
        "\n",
        "#create KMeans Model and train\n",
        "kmeans = KMeans(n_clusters = 5,\n",
        "                init = 'k-means++',\n",
        "                algorithm = 'full',\n",
        "                random_state = 101)\n",
        "yhat_train_super = kmeans.fit_predict(tfSuper_train)\n",
        "\n",
        "#get accuracy\n",
        "y_train_df = pd.DataFrame(y_train, columns=['Category'])\n",
        "label_order, accuracy = label_permute(y_train_df, yhat_train_super)\n",
        "print('accuracy=', accuracy)\n",
        "print(label_order, '\\n')\n",
        "\n",
        "#show label order\n",
        "label_dict = {3:'business', 1:'tech', 4:'politics', 2:'sport', 0:'entertainment'}\n",
        "for i in range(5):\n",
        "    print(f'{label_order[i]}:  {label_dict[label_order[i]]}')\n",
        "\n",
        "\n",
        "clean_text2(test,'Text')\n",
        "X_test = test['clean_text'].values\n",
        "\n",
        "#create vectorizer (do not fit it!)\n",
        "tfSuper_test = tfidfvec_supervised.transform(X_test)\n",
        "yhat_test = kmeans.predict(tfSuper_test)\n",
        "\n",
        "#create a submission dataframe\n",
        "test_predictions = pd.DataFrame(columns=['ArticleId', 'Category', 'yhat'])\n",
        "test_predictions['ArticleId'] = test['ArticleId']\n",
        "test_predictions['yhat'] = yhat_test\n",
        "test_predictions['Category'] = test_predictions['yhat'].apply(lambda i: label_dict[i])\n",
        "\n",
        "#delete columns unneeded for submission\n",
        "test_predictions = test_predictions.drop('yhat', 1)\n",
        "print(test_predictions.head(2))\n",
        "\n",
        "\n",
        "#save and submit test dataframe\n",
        "try:\n",
        "    test_predictions.to_csv('supervised_submission_20.csv', index=False)\n",
        "except:\n",
        "    pass"
      ],
      "metadata": {
        "id": "r90zpuf9IwGb"
      },
      "execution_count": null,
      "outputs": []
    },
    {
      "cell_type": "code",
      "source": [
        "!kaggle competitions submit -c learn-ai-bbc -f supervised_submission_20.csv -m \"K-mean model_REDUCED_20%\""
      ],
      "metadata": {
        "colab": {
          "base_uri": "https://localhost:8080/"
        },
        "id": "cWKDsTRvJJiJ",
        "outputId": "3c775c78-d877-47a0-c431-c03cd91c53e1"
      },
      "execution_count": 367,
      "outputs": [
        {
          "output_type": "stream",
          "name": "stdout",
          "text": [
            "Warning: Your Kaggle API key is readable by other users on this system! To fix this, you can run 'chmod 600 /root/.kaggle/kaggle.json'\n",
            "Warning: Looks like you're using an outdated API Version, please consider updating (server 1.6.7 / client 1.5.16)\n",
            "100% 9.46k/9.46k [00:00<00:00, 33.0kB/s]\n",
            "Successfully submitted to BBC News Classification"
          ]
        }
      ]
    },
    {
      "cell_type": "code",
      "source": [
        "twenty_percent_reduced_img=Image.open('./Kaggle_Completion_Score/supervised_reduceds/K-mean model_REDUCED_20%.png',)\n",
        "twenty_percent_reduced_img"
      ],
      "metadata": {
        "colab": {
          "base_uri": "https://localhost:8080/",
          "height": 91
        },
        "id": "ZxnR4StbLjWY",
        "outputId": "c680e721-d441-44cc-df1a-e105fb4c133e"
      },
      "execution_count": 370,
      "outputs": [
        {
          "output_type": "execute_result",
          "data": {
            "text/plain": [
              "<PIL.PngImagePlugin.PngImageFile image mode=RGBA size=1466x110>"
            ],
            "image/png": "[encoded data removed]"
          },
          "metadata": {},
          "execution_count": 370
        }
      ]
    },
    {
      "cell_type": "markdown",
      "source": [
        "Reduced 20% of the Training Data"
      ],
      "metadata": {
        "id": "fpXlOU2XKGrr"
      }
    },
    {
      "cell_type": "code",
      "source": [
        "train = pd.read_csv(trainDataPath)\n",
        "test = pd.read_csv(testDataPath)\n",
        "\n",
        "import re\n",
        "from sklearn.cluster import KMeans\n",
        "clean_text2(train,'Text')\n",
        "# train['clean_text'] = train['Text'].apply(clean_text)\n",
        "# test['clean_text'] = test['Text'].apply(clean_text)\n",
        "\n",
        "#split data into X and y\n",
        "y_train = train['Category'].values[:-447]\n",
        "X_train = train['clean_text'].values[:-447]\n",
        "\n",
        "\n",
        "#create new vectorizer for supervised learning model\n",
        "tfidfvec_supervised = TfidfVectorizer(min_df = 2,\n",
        "                          max_df = 0.95,\n",
        "                          norm = 'l2',\n",
        "                          stop_words = 'english')\n",
        "tfSuper_train = tfidfvec_supervised.fit_transform(X_train)\n",
        "\n",
        "#create KMeans Model and train\n",
        "kmeans = KMeans(n_clusters = 5,\n",
        "                init = 'k-means++',\n",
        "                algorithm = 'full',\n",
        "                random_state = 101)\n",
        "yhat_train_super = kmeans.fit_predict(tfSuper_train)\n",
        "\n",
        "#get accuracy\n",
        "y_train_df = pd.DataFrame(y_train, columns=['Category'])\n",
        "label_order, accuracy = label_permute(y_train_df, yhat_train_super)\n",
        "print('accuracy=', accuracy)\n",
        "print(label_order, '\\n')\n",
        "\n",
        "#show label order\n",
        "label_dict = {3:'business', 1:'tech', 4:'politics', 2:'sport', 0:'entertainment'}\n",
        "for i in range(5):\n",
        "    print(f'{label_order[i]}:  {label_dict[label_order[i]]}')\n",
        "\n",
        "\n",
        "clean_text2(test,'Text')\n",
        "X_test = test['clean_text'].values\n",
        "\n",
        "#create vectorizer (do not fit it!)\n",
        "tfSuper_test = tfidfvec_supervised.transform(X_test)\n",
        "yhat_test = kmeans.predict(tfSuper_test)\n",
        "\n",
        "#create a submission dataframe\n",
        "test_predictions = pd.DataFrame(columns=['ArticleId', 'Category', 'yhat'])\n",
        "test_predictions['ArticleId'] = test['ArticleId']\n",
        "test_predictions['yhat'] = yhat_test\n",
        "test_predictions['Category'] = test_predictions['yhat'].apply(lambda i: label_dict[i])\n",
        "\n",
        "#delete columns unneeded for submission\n",
        "test_predictions = test_predictions.drop('yhat', 1)\n",
        "print(test_predictions.head(2))\n",
        "\n",
        "\n",
        "#save and submit test dataframe\n",
        "try:\n",
        "    test_predictions.to_csv('supervised_submission_30.csv', index=False)\n",
        "except:\n",
        "    pass"
      ],
      "metadata": {
        "id": "FbfGr7RBKH2G"
      },
      "execution_count": null,
      "outputs": []
    },
    {
      "cell_type": "code",
      "source": [
        "!kaggle competitions submit -c learn-ai-bbc -f supervised_submission_30.csv -m \"K-mean model_REDUCED_30%\""
      ],
      "metadata": {
        "id": "9xslQkylKOhr"
      },
      "execution_count": null,
      "outputs": []
    },
    {
      "cell_type": "markdown",
      "source": [
        "Reduced 30% of the Training Data"
      ],
      "metadata": {
        "id": "p1GmmhomKQya"
      }
    },
    {
      "cell_type": "code",
      "source": [
        "thirty_percent_reduced_img=Image.open('./Kaggle_Completion_Score/supervised_reduceds/K-mean model_REDUCED_30%.png',)\n",
        "thirty_percent_reduced_img"
      ],
      "metadata": {
        "colab": {
          "base_uri": "https://localhost:8080/",
          "height": 91
        },
        "id": "VlMk-YpPLwe7",
        "outputId": "d43e34b8-531e-4e0d-ecee-36227e955b0a"
      },
      "execution_count": 369,
      "outputs": [
        {
          "output_type": "execute_result",
          "data": {
            "text/plain": [
              "<PIL.PngImagePlugin.PngImageFile image mode=RGBA size=1466x110>"
            ],
            "image/png": "[encoded data removed]"
          },
          "metadata": {},
          "execution_count": 369
        }
      ]
    },
    {
      "cell_type": "code",
      "source": [
        "train = pd.read_csv(trainDataPath)\n",
        "test = pd.read_csv(testDataPath)\n",
        "\n",
        "import re\n",
        "from sklearn.cluster import KMeans\n",
        "clean_text2(train,'Text')\n",
        "# train['clean_text'] = train['Text'].apply(clean_text)\n",
        "# test['clean_text'] = test['Text'].apply(clean_text)\n",
        "\n",
        "#split data into X and y\n",
        "y_train = train['Category'].values[:-596]\n",
        "X_train = train['clean_text'].values[:-596]\n",
        "\n",
        "\n",
        "#create new vectorizer for supervised learning model\n",
        "tfidfvec_supervised = TfidfVectorizer(min_df = 2,\n",
        "                          max_df = 0.95,\n",
        "                          norm = 'l2',\n",
        "                          stop_words = 'english')\n",
        "tfSuper_train = tfidfvec_supervised.fit_transform(X_train)\n",
        "\n",
        "#create KMeans Model and train\n",
        "kmeans = KMeans(n_clusters = 5,\n",
        "                init = 'k-means++',\n",
        "                algorithm = 'full',\n",
        "                random_state = 101)\n",
        "yhat_train_super = kmeans.fit_predict(tfSuper_train)\n",
        "\n",
        "#get accuracy\n",
        "y_train_df = pd.DataFrame(y_train, columns=['Category'])\n",
        "label_order, accuracy = label_permute(y_train_df, yhat_train_super)\n",
        "print('accuracy=', accuracy)\n",
        "print(label_order, '\\n')\n",
        "\n",
        "#show label order\n",
        "label_dict = {3:'business', 1:'tech', 4:'politics', 2:'sport', 0:'entertainment'}\n",
        "for i in range(5):\n",
        "    print(f'{label_order[i]}:  {label_dict[label_order[i]]}')\n",
        "\n",
        "\n",
        "clean_text2(test,'Text')\n",
        "X_test = test['clean_text'].values\n",
        "\n",
        "#create vectorizer (do not fit it!)\n",
        "tfSuper_test = tfidfvec_supervised.transform(X_test)\n",
        "yhat_test = kmeans.predict(tfSuper_test)\n",
        "\n",
        "#create a submission dataframe\n",
        "test_predictions = pd.DataFrame(columns=['ArticleId', 'Category', 'yhat'])\n",
        "test_predictions['ArticleId'] = test['ArticleId']\n",
        "test_predictions['yhat'] = yhat_test\n",
        "test_predictions['Category'] = test_predictions['yhat'].apply(lambda i: label_dict[i])\n",
        "\n",
        "#delete columns unneeded for submission\n",
        "test_predictions = test_predictions.drop('yhat', 1)\n",
        "print(test_predictions.head(2))\n",
        "\n",
        "\n",
        "#save and submit test dataframe\n",
        "try:\n",
        "    test_predictions.to_csv('supervised_submission_40.csv', index=False)\n",
        "except:\n",
        "    pass"
      ],
      "metadata": {
        "id": "rQZ06DWwKR7f"
      },
      "execution_count": null,
      "outputs": []
    },
    {
      "cell_type": "code",
      "source": [
        "!kaggle competitions submit -c learn-ai-bbc -f supervised_submission_40.csv -m \"K-mean model_REDUCED_40%\""
      ],
      "metadata": {
        "id": "wGyMgh0vKVQ4"
      },
      "execution_count": null,
      "outputs": []
    },
    {
      "cell_type": "markdown",
      "source": [
        "Reduced 40% of the Training Data"
      ],
      "metadata": {
        "id": "VeTx-y9pKaRz"
      }
    },
    {
      "cell_type": "code",
      "source": [
        "fourty_percent_reduced_img=Image.open('./Kaggle_Completion_Score/supervised_reduceds/K-mean model_REDUCED_40%.png',)\n",
        "fourty_percent_reduced_img"
      ],
      "metadata": {
        "colab": {
          "base_uri": "https://localhost:8080/",
          "height": 91
        },
        "id": "5ocsvlOuL7Mx",
        "outputId": "1785ba99-d7d8-4542-9b53-3d1349fef821"
      },
      "execution_count": 371,
      "outputs": [
        {
          "output_type": "execute_result",
          "data": {
            "text/plain": [
              "<PIL.PngImagePlugin.PngImageFile image mode=RGBA size=1466x110>"
            ],
            "image/png": "[encoded data removed]"
          },
          "metadata": {},
          "execution_count": 371
        }
      ]
    },
    {
      "cell_type": "markdown",
      "source": [
        "### SVC\n",
        "\n",
        "Support Vector Classifier, is a supervised learning model used for classification tasks in machine learning. It belongs to the family of Support Vector Machines (SVMs), which are widely used for both binary and multiclass classification problems.\n",
        "\n",
        "Overall, SVC is a powerful and versatile classifier capable of handling various types of classification tasks. It is widely used in practice due to its effectiveness, especially in scenarios with complex decision boundaries and high-dimensional feature spaces.\n",
        "\n",
        "\n",
        "\n",
        "\n",
        "\n",
        "\n"
      ],
      "metadata": {
        "id": "9XC5mMpfMZeq"
      }
    },
    {
      "cell_type": "code",
      "source": [
        "from sklearn.svm import SVC\n",
        "from sklearn.metrics import accuracy_score\n",
        "\n",
        "# Initialize SVM classifier\n",
        "svm_clf = SVC()\n",
        "\n",
        "# Train the classifier on the labeled data\n",
        "svm_clf.fit(tfSuper_train, y_train)"
      ],
      "metadata": {
        "colab": {
          "base_uri": "https://localhost:8080/",
          "height": 74
        },
        "id": "eRt1TAOsqckN",
        "outputId": "003b1e87-672a-4300-f3c3-3a7468ff11a1"
      },
      "execution_count": 298,
      "outputs": [
        {
          "output_type": "execute_result",
          "data": {
            "text/plain": [
              "SVC()"
            ],
            "text/html": [
              "<style>#sk-container-id-5 {color: black;background-color: white;}#sk-container-id-5 pre{padding: 0;}#sk-container-id-5 div.sk-toggleable {background-color: white;}#sk-container-id-5 label.sk-toggleable__label {cursor: pointer;display: block;width: 100%;margin-bottom: 0;padding: 0.3em;box-sizing: border-box;text-align: center;}#sk-container-id-5 label.sk-toggleable__label-arrow:before {content: \"▸\";float: left;margin-right: 0.25em;color: #696969;}#sk-container-id-5 label.sk-toggleable__label-arrow:hover:before {color: black;}#sk-container-id-5 div.sk-estimator:hover label.sk-toggleable__label-arrow:before {color: black;}#sk-container-id-5 div.sk-toggleable__content {max-height: 0;max-width: 0;overflow: hidden;text-align: left;background-color: #f0f8ff;}#sk-container-id-5 div.sk-toggleable__content pre {margin: 0.2em;color: black;border-radius: 0.25em;background-color: #f0f8ff;}#sk-container-id-5 input.sk-toggleable__control:checked~div.sk-toggleable__content {max-height: 200px;max-width: 100%;overflow: auto;}#sk-container-id-5 input.sk-toggleable__control:checked~label.sk-toggleable__label-arrow:before {content: \"▾\";}#sk-container-id-5 div.sk-estimator input.sk-toggleable__control:checked~label.sk-toggleable__label {background-color: #d4ebff;}#sk-container-id-5 div.sk-label input.sk-toggleable__control:checked~label.sk-toggleable__label {background-color: #d4ebff;}#sk-container-id-5 input.sk-hidden--visually {border: 0;clip: rect(1px 1px 1px 1px);clip: rect(1px, 1px, 1px, 1px);height: 1px;margin: -1px;overflow: hidden;padding: 0;position: absolute;width: 1px;}#sk-container-id-5 div.sk-estimator {font-family: monospace;background-color: #f0f8ff;border: 1px dotted black;border-radius: 0.25em;box-sizing: border-box;margin-bottom: 0.5em;}#sk-container-id-5 div.sk-estimator:hover {background-color: #d4ebff;}#sk-container-id-5 div.sk-parallel-item::after {content: \"\";width: 100%;border-bottom: 1px solid gray;flex-grow: 1;}#sk-container-id-5 div.sk-label:hover label.sk-toggleable__label {background-color: #d4ebff;}#sk-container-id-5 div.sk-serial::before {content: \"\";position: absolute;border-left: 1px solid gray;box-sizing: border-box;top: 0;bottom: 0;left: 50%;z-index: 0;}#sk-container-id-5 div.sk-serial {display: flex;flex-direction: column;align-items: center;background-color: white;padding-right: 0.2em;padding-left: 0.2em;position: relative;}#sk-container-id-5 div.sk-item {position: relative;z-index: 1;}#sk-container-id-5 div.sk-parallel {display: flex;align-items: stretch;justify-content: center;background-color: white;position: relative;}#sk-container-id-5 div.sk-item::before, #sk-container-id-5 div.sk-parallel-item::before {content: \"\";position: absolute;border-left: 1px solid gray;box-sizing: border-box;top: 0;bottom: 0;left: 50%;z-index: -1;}#sk-container-id-5 div.sk-parallel-item {display: flex;flex-direction: column;z-index: 1;position: relative;background-color: white;}#sk-container-id-5 div.sk-parallel-item:first-child::after {align-self: flex-end;width: 50%;}#sk-container-id-5 div.sk-parallel-item:last-child::after {align-self: flex-start;width: 50%;}#sk-container-id-5 div.sk-parallel-item:only-child::after {width: 0;}#sk-container-id-5 div.sk-dashed-wrapped {border: 1px dashed gray;margin: 0 0.4em 0.5em 0.4em;box-sizing: border-box;padding-bottom: 0.4em;background-color: white;}#sk-container-id-5 div.sk-label label {font-family: monospace;font-weight: bold;display: inline-block;line-height: 1.2em;}#sk-container-id-5 div.sk-label-container {text-align: center;}#sk-container-id-5 div.sk-container {/* jupyter's `normalize.less` sets `[hidden] { display: none; }` but bootstrap.min.css set `[hidden] { display: none !important; }` so we also need the `!important` here to be able to override the default hidden behavior on the sphinx rendered scikit-learn.org. See: https://github.com/scikit-learn/scikit-learn/issues/21755 */display: inline-block !important;position: relative;}#sk-container-id-5 div.sk-text-repr-fallback {display: none;}</style><div id=\"sk-container-id-5\" class=\"sk-top-container\"><div class=\"sk-text-repr-fallback\"><pre>SVC()</pre><b>In a Jupyter environment, please rerun this cell to show the HTML representation or trust the notebook. <br />On GitHub, the HTML representation is unable to render, please try loading this page with nbviewer.org.</b></div><div class=\"sk-container\" hidden><div class=\"sk-item\"><div class=\"sk-estimator sk-toggleable\"><input class=\"sk-toggleable__control sk-hidden--visually\" id=\"sk-estimator-id-5\" type=\"checkbox\" checked><label for=\"sk-estimator-id-5\" class=\"sk-toggleable__label sk-toggleable__label-arrow\">SVC</label><div class=\"sk-toggleable__content\"><pre>SVC()</pre></div></div></div></div></div>"
            ]
          },
          "metadata": {},
          "execution_count": 298
        }
      ]
    },
    {
      "cell_type": "code",
      "source": [
        "# Predict labels on the training and test sets\n",
        "tfSuper_test = tfidfvec_supervised.transform(X_test)\n",
        "yhat_test = svm_clf.predict(tfSuper_test)"
      ],
      "metadata": {
        "id": "XdrVhR51qzY1"
      },
      "execution_count": 299,
      "outputs": []
    },
    {
      "cell_type": "code",
      "source": [
        "#create a submission dataframe\n",
        "test_predictions = pd.DataFrame(columns=['ArticleId', 'Category', 'yhat'])\n",
        "test_predictions['ArticleId'] = test['ArticleId']\n",
        "# test_predictions['yhat'] = yhat_test\n",
        "test_predictions['Category'] =yhat_test\n",
        "\n",
        "#delete columns unneeded for submission\n",
        "test_predictions = test_predictions.drop('yhat', 1)\n",
        "print(test_predictions.head(2))"
      ],
      "metadata": {
        "colab": {
          "base_uri": "https://localhost:8080/"
        },
        "id": "SAsSQJUtrRLi",
        "outputId": "37f46c81-b306-414f-8146-960cfb5b0574"
      },
      "execution_count": 300,
      "outputs": [
        {
          "output_type": "stream",
          "name": "stdout",
          "text": [
            "   ArticleId Category\n",
            "0       1018    sport\n",
            "1       1319     tech\n"
          ]
        },
        {
          "output_type": "stream",
          "name": "stderr",
          "text": [
            "<ipython-input-300-4d4669551c78>:8: FutureWarning: In a future version of pandas all arguments of DataFrame.drop except for the argument 'labels' will be keyword-only.\n",
            "  test_predictions = test_predictions.drop('yhat', 1)\n"
          ]
        }
      ]
    },
    {
      "cell_type": "code",
      "source": [
        "#save and submit test dataframe\n",
        "try:\n",
        "    test_predictions.to_csv('svc_submission.csv', index=False)\n",
        "except:\n",
        "    pass\n",
        "\n",
        "# #public and private score was 0.62993"
      ],
      "metadata": {
        "id": "q-GAFDcfzSFi"
      },
      "execution_count": 301,
      "outputs": []
    },
    {
      "cell_type": "code",
      "source": [
        "!kaggle competitions submit -c learn-ai-bbc -f svc_submission.csv -m \"SVC model\""
      ],
      "metadata": {
        "colab": {
          "base_uri": "https://localhost:8080/"
        },
        "id": "9X98PZOkzbCJ",
        "outputId": "4165719c-88da-4c65-a484-46067e9eeb0d"
      },
      "execution_count": 302,
      "outputs": [
        {
          "output_type": "stream",
          "name": "stdout",
          "text": [
            "Warning: Your Kaggle API key is readable by other users on this system! To fix this, you can run 'chmod 600 /root/.kaggle/kaggle.json'\n",
            "Warning: Looks like you're using an outdated API Version, please consider updating (server 1.6.7 / client 1.5.16)\n",
            "100% 9.23k/9.23k [00:00<00:00, 36.0kB/s]\n",
            "Successfully submitted to BBC News Classification"
          ]
        }
      ]
    },
    {
      "cell_type": "code",
      "source": [
        "svc_img=Image.open('./Kaggle_Completion_Score/svc.png',)\n",
        "svc_img"
      ],
      "metadata": {
        "colab": {
          "base_uri": "https://localhost:8080/",
          "height": 147
        },
        "id": "98_1L_udzyZr",
        "outputId": "e2658d40-e099-4a09-a56d-80d7d0724341"
      },
      "execution_count": 200,
      "outputs": [
        {
          "output_type": "execute_result",
          "data": {
            "text/plain": [
              "<PIL.PngImagePlugin.PngImageFile image mode=RGBA size=1466x110>"
            ],
            "image/png": "[encoded data removed]"
          },
          "metadata": {},
          "execution_count": 200
        }
      ]
    },
    {
      "cell_type": "markdown",
      "source": [
        "SVC of supervisied model achieved the highest test score over all the trained model including NMF unsupervised model."
      ],
      "metadata": {
        "id": "Ngy6AXSm0Nfu"
      }
    },
    {
      "cell_type": "code",
      "source": [
        "!zip -r part1.zip ./"
      ],
      "metadata": {
        "colab": {
          "base_uri": "https://localhost:8080/"
        },
        "id": "Hvxeo8bu5UXl",
        "outputId": "b5ed4ecc-5bdb-49e7-f801-e92f1d4dba3f"
      },
      "execution_count": 373,
      "outputs": [
        {
          "output_type": "stream",
          "name": "stdout",
          "text": [
            "  adding: .config/ (stored 0%)\n",
            "  adding: .config/active_config (stored 0%)\n",
            "  adding: .config/gce (stored 0%)\n",
            "  adding: .config/configurations/ (stored 0%)\n",
            "  adding: .config/configurations/config_default (deflated 15%)\n",
            "  adding: .config/.last_update_check.json (deflated 22%)\n",
            "  adding: .config/logs/ (stored 0%)\n",
            "  adding: .config/logs/2024.03.14/ (stored 0%)\n",
            "  adding: .config/logs/2024.03.14/13.27.10.079071.log (deflated 56%)\n",
            "  adding: .config/logs/2024.03.14/13.26.14.309360.log (deflated 91%)\n",
            "  adding: .config/logs/2024.03.14/13.26.59.167795.log (deflated 57%)\n",
            "  adding: .config/logs/2024.03.14/13.26.50.913748.log (deflated 86%)\n",
            "  adding: .config/logs/2024.03.14/13.27.09.269770.log (deflated 57%)\n",
            "  adding: .config/logs/2024.03.14/13.26.40.757343.log (deflated 58%)\n",
            "  adding: .config/.last_opt_in_prompt.yaml (stored 0%)\n",
            "  adding: .config/.last_survey_prompt.yaml (stored 0%)\n",
            "  adding: .config/config_sentinel (stored 0%)\n",
            "  adding: .config/default_configs.db (deflated 98%)\n",
            "  adding: supervised_submission_reduced.csv (deflated 77%)\n",
            "  adding: Kaggle_Completion_Score/ (stored 0%)\n",
            "  adding: Kaggle_Completion_Score/Unsupervised_Submission_Score.png (deflated 5%)\n",
            "  adding: Kaggle_Completion_Score/svc.png (deflated 5%)\n",
            "  adding: Kaggle_Completion_Score/supervised_reduceds/ (stored 0%)\n",
            "  adding: Kaggle_Completion_Score/supervised_reduceds/K-mean model_REDUCED_30%.png (deflated 5%)\n",
            "  adding: Kaggle_Completion_Score/supervised_reduceds/K-mean model_REDUCED_40%.png (deflated 5%)\n",
            "  adding: Kaggle_Completion_Score/supervised_reduceds/K-mean model_REDUCED_20%.png (deflated 5%)\n",
            "  adding: Kaggle_Completion_Score/Supervised_Submission_Score.png (deflated 5%)\n",
            "  adding: learn-ai-bbc.zip (stored 0%)\n",
            "  adding: supervised_submission.csv (deflated 76%)\n",
            "  adding: svc_submission.csv (deflated 76%)\n",
            "  adding: supervised_submission_30.csv (deflated 76%)\n",
            "  adding: kaggle.json (stored 0%)\n",
            "  adding: supervised_submission_40.csv (deflated 76%)\n",
            "  adding: submission.csv (deflated 76%)\n",
            "  adding: .ipynb_checkpoints/ (stored 0%)\n",
            "  adding: data/ (stored 0%)\n",
            "  adding: data/BBC News Sample Solution.csv (deflated 78%)\n",
            "  adding: data/BBC News Test.csv (deflated 62%)\n",
            "  adding: data/BBC News Train.csv (deflated 62%)\n",
            "  adding: supervised_submissions/ (stored 0%)\n",
            "  adding: supervised_submissions/supervised_submission_reduced_20.csv (deflated 77%)\n",
            "  adding: supervised_submissions/supervised_submission_reduced_50.csv (deflated 77%)\n",
            "  adding: supervised_submissions/supervised_submission_reduced_30.csv (deflated 77%)\n",
            "  adding: supervised_submissions/supervised_submission_reduced_40.csv (deflated 77%)\n",
            "  adding: supervised_submission_20.csv (deflated 76%)\n"
          ]
        }
      ]
    },
    {
      "cell_type": "code",
      "source": [],
      "metadata": {
        "id": "jWh8kjAINbY7"
      },
      "execution_count": null,
      "outputs": []
    }
  ]
}